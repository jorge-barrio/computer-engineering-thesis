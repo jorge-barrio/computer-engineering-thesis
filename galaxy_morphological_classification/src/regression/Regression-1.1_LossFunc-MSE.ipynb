{
 "cells": [
  {
   "cell_type": "markdown",
   "metadata": {
    "id": "pOVxY1smabpy"
   },
   "source": [
    "# Regression for morphological galaxy classification #1.1 (Base system)\n",
    "---\n",
    "**Author:** Jorge Barrio Conde\n",
    "\n",
    "**Tfms:** `[]`\n",
    "\n",
    "**Neural Network:** ResNet34\n",
    "\n",
    "**Training method:** `fine_tune()`\n",
    "\n",
    "**Loss function:** ``MSELossFlat``\n",
    "\n",
    "**Epochs:** 30\n",
    "\n",
    "**Learning rate:** default\n",
    "\n",
    "Paper: *A catalog of visual-like mophologies in the 5 CANDELS fields using Deep-Learning* (M. Huertas-Company, 2015)"
   ]
  },
  {
   "cell_type": "markdown",
   "metadata": {
    "id": "sHiugZQj6fgK"
   },
   "source": [
    "## 0. Install fastai and fastbook (Google Colab)"
   ]
  },
  {
   "cell_type": "code",
   "execution_count": null,
   "metadata": {},
   "outputs": [],
   "source": [
    "!pip install -Uqq fastbook\n",
    "import fastbook\n",
    "fastbook.setup_book()"
   ]
  },
  {
   "cell_type": "markdown",
   "metadata": {
    "id": "Dt-l7DNtbBzU"
   },
   "source": [
    "## 1. Setup"
   ]
  },
  {
   "cell_type": "markdown",
   "metadata": {
    "id": "t8F19b46axHT"
   },
   "source": [
    "### Imports"
   ]
  },
  {
   "cell_type": "code",
   "execution_count": null,
   "metadata": {
    "colab": {
     "base_uri": "https://localhost:8080/",
     "height": 35
    },
    "executionInfo": {
     "elapsed": 500,
     "status": "ok",
     "timestamp": 1617572153105,
     "user": {
      "displayName": "Jorge TFG",
      "photoUrl": "",
      "userId": "04695241847063352703"
     },
     "user_tz": -120
    },
    "id": "7YQa0gvCapr_",
    "outputId": "f5175a6f-53d7-49a0-cec0-fe8efff67e59"
   },
   "outputs": [
    {
     "data": {
      "application/vnd.google.colaboratory.intrinsic+json": {
       "type": "string"
      },
      "text/plain": [
       "'2.3.0'"
      ]
     },
     "execution_count": 2,
     "metadata": {
      "tags": []
     },
     "output_type": "execute_result"
    }
   ],
   "source": [
    "import fastai\n",
    "from fastai.vision.all import *\n",
    "from fastbook import *\n",
    "\n",
    "fastai.__version__"
   ]
  },
  {
   "cell_type": "markdown",
   "metadata": {
    "id": "umvjm0g2a3fg"
   },
   "source": [
    "### Paths"
   ]
  },
  {
   "cell_type": "code",
   "execution_count": null,
   "metadata": {},
   "outputs": [],
   "source": [
    "# Specify project path\n",
    "project_root_path = \"/content/gdrive/MyDrive/galaxy_morphological_classification/\""
   ]
  },
  {
   "cell_type": "code",
   "execution_count": null,
   "metadata": {
    "id": "dLdZJN5obLIp"
   },
   "outputs": [],
   "source": [
    "cat_file_path = project_root_path + \"datasets/galaxies_main_props_with_struct_params_and_no_bad_objects_and_hudf_flags_and_morphs_and_z_flags6.cat\"\n",
    "png_files_path = project_root_path + \"datasets/rgb_200x200/\"\n",
    "csv_results_path = project_root_path + \"src/regression/results/1.1-NoTFMS-MSELoss-ResNet34-fine_tune-30_epochs.csv\""
   ]
  },
  {
   "cell_type": "markdown",
   "metadata": {
    "id": "Hh_MCuArbSME"
   },
   "source": [
    "## 2. Prepare galaxies information"
   ]
  },
  {
   "cell_type": "markdown",
   "metadata": {
    "id": "ndg04M6NcA_X"
   },
   "source": [
    "### Read .cat file"
   ]
  },
  {
   "cell_type": "code",
   "execution_count": null,
   "metadata": {
    "id": "Zb6wf5wFbw6g"
   },
   "outputs": [],
   "source": [
    "import numpy as np\n",
    "import matplotlib.pyplot as plt\n",
    "from astropy.table import Table\n",
    "from astropy.io import fits\n",
    "\n",
    "tt = Table.read(\n",
    "    cat_file_path,\n",
    "    names=[\n",
    "        \"gal_id\",\"field\",\"ra\",\"dec\",\"mass\",\"z\",\n",
    "        \"flag_fit\",\"mag\",\"dmag\",\"re\",\"dre\",\"n\",\"dn\",\n",
    "        \"q\",\"dq\",\"pa\",\"dpa\",\"sn\",\n",
    "        \"IAU_name\",\"f_sph\",\"f_disk\",\"f_irr\",\"f_ps\",\n",
    "        \"f_unc\",\"max_f\",\"delta1-2\",\"dom_class\",\"entropy\",\n",
    "        \"zspec\",\"quality_zspec\",\"zphot\",\"zspec_legac\",\"zspec_zcosmos\",\n",
    "        \"confidence_class_zcosmos\",\"zspec_legac_dr3\",\"zspec_hathi\",\"zspec_damjanov\",\"zspec_damjanov_quality\",\n",
    "        \"hudf_for_B\",\"hudf_for_V\",\"hudf_for_I\",\"hudf_for_Y\",\"hudf_for_J\",\"hudf_for_H\"\n",
    "    ],\n",
    "    format=\"ascii.commented_header\")\n",
    "\n",
    "gals = np.array(tt[\"gal_id\"],dtype=\"U100\")\n",
    "ra = np.array(tt[\"ra\"])\n",
    "dec = np.array(tt[\"dec\"])\n",
    "field = np.array(tt[\"field\"])\n",
    "ar = np.array(tt[\"q\"])\n",
    "pa  = np.array(tt[\"pa\"])\n",
    "zz_old = np.array(tt[\"z\"])\n",
    "zspec = np.array(tt[\"zspec\"])\n",
    "quality_zspec = np.array(tt[\"quality_zspec\"])\n",
    "zphot = np.array(tt[\"zphot\"])\n",
    "zspec_legac = np.array(tt[\"zspec_legac\"])\n",
    "zspec_zcosmos = np.array(tt[\"zspec_zcosmos\"])\n",
    "confidence_class_zcosmos = np.array(tt[\"confidence_class_zcosmos\"])\n",
    "zspec_hathi = np.array(tt[\"zspec_hathi\"])\n",
    "zspec_legac_dr3 = np.array(tt[\"zspec_legac_dr3\"])\n",
    "zspec_damjanov = np.array(tt[\"zspec_damjanov\"])\n",
    "\n",
    "f_sph = np.array(tt[\"f_sph\"])\n",
    "f_disk = np.array(tt[\"f_disk\"])\n",
    "f_irr = np.array(tt[\"f_irr\"])\n",
    "f_ps = np.array(tt[\"f_ps\"])\n",
    "f_unc = np.array(tt[\"f_unc\"])"
   ]
  },
  {
   "cell_type": "markdown",
   "metadata": {
    "id": "mI1sl0rycC61"
   },
   "source": [
    "### Create information dictionary"
   ]
  },
  {
   "cell_type": "markdown",
   "metadata": {
    "id": "r8FuQEOec-hE"
   },
   "source": [
    "It's a dictionary with this structure:\n",
    "> ```python\n",
    "galaxies_fs = { morph_id_field.png : [f_sph, f_disk, f_irr, f_ps, f_unc] }\n",
    "```"
   ]
  },
  {
   "cell_type": "code",
   "execution_count": null,
   "metadata": {
    "id": "uVdbt8vll-3Z"
   },
   "outputs": [],
   "source": [
    "def get_morphology_Huertas15(f_sph, f_disk, f_irr):\n",
    "    if (f_sph > 0.667 and f_disk < 0.667 and f_irr < 0.1):\n",
    "        return \"SPH\"\n",
    "    elif (f_sph < 0.667 and f_disk > 0.667 and f_irr < 0.1):\n",
    "        return \"DISK\"\n",
    "    elif (f_sph > 0.667 and f_disk > 0.667 and f_irr < 0.1):\n",
    "        return \"DISKSPH\"\n",
    "    elif (f_sph < 0.667 and f_disk > 0.667 and f_irr > 0.1):\n",
    "        return \"DISKIRR\"\n",
    "    elif (f_sph < 0.667 and f_disk < 0.667 and f_irr > 0.1):\n",
    "        return \"IRR\"\n",
    "    else:\n",
    "        return \"NONE\""
   ]
  },
  {
   "cell_type": "code",
   "execution_count": null,
   "metadata": {
    "id": "09I9L_kVcQI2"
   },
   "outputs": [],
   "source": [
    "galaxies_fs = {}\n",
    "files = []\n",
    "\n",
    "for i in range(len(gals)):\n",
    "    morph = get_morphology_Huertas15(f_sph[i], f_disk[i], f_irr[i])\n",
    "\n",
    "    filename = morph + \"_\" + gals[i] + \"_\" + field[i] + \".png\"\n",
    "    targets = [f_sph[i],f_disk[i],f_irr[i],f_ps[i],f_unc[i]]\n",
    "    \n",
    "    # Add a new item to the dictionary\n",
    "    galaxies_fs.update({ filename : targets })"
   ]
  },
  {
   "cell_type": "markdown",
   "metadata": {
    "id": "s3CvkMsPdaAX"
   },
   "source": [
    "## 3. My functions"
   ]
  },
  {
   "cell_type": "markdown",
   "metadata": {
    "id": "xy85Ghqadcjo"
   },
   "source": [
    "### 3.1. Getters"
   ]
  },
  {
   "cell_type": "code",
   "execution_count": null,
   "metadata": {
    "id": "apaVOg0Hfygm"
   },
   "outputs": [],
   "source": [
    "import os\n",
    "\n",
    "def get_y(source):\n",
    "    '''\n",
    "    Pre: file = source/morphology_id_field.png\n",
    "    '''\n",
    "    path = str(source)\n",
    "    filename = os.path.basename(path)\n",
    "    return galaxies_fs.get(filename) # Search in the dictionary"
   ]
  },
  {
   "cell_type": "markdown",
   "metadata": {
    "id": "_efHPVgPdelp"
   },
   "source": [
    "### 3.2. Tfms"
   ]
  },
  {
   "cell_type": "code",
   "execution_count": null,
   "metadata": {
    "id": "K-OVYhCqgEvM"
   },
   "outputs": [],
   "source": [
    "def random_rotation(x):\n",
    "    '''\n",
    "    Return a float tensor equal in size to batch with random\n",
    "    rotations multiples of 90. \n",
    "    \n",
    "    x: full batch tensor\n",
    "    '''\n",
    "    size = x.size(0)\n",
    "    result = torch.zeros(([size]), dtype=float, device='cuda')\n",
    "    \n",
    "    for i in range(size):\n",
    "        degree = torch.rand(1)\n",
    "        if (degree < 0.25):\n",
    "            result[i] = 0.0\n",
    "        elif (degree < 0.5):\n",
    "            result[i] = 90.0\n",
    "        elif (degree < 0.75):\n",
    "            result[i] = 180.0\n",
    "        else:\n",
    "            result[i] = 270.0\n",
    "    \n",
    "    return result"
   ]
  },
  {
   "cell_type": "code",
   "execution_count": null,
   "metadata": {
    "id": "AKpQ0LgcgIoq"
   },
   "outputs": [],
   "source": [
    "class GaussianNoise(Transform):\n",
    "    order = 100 #after normalize\n",
    "    \n",
    "    def encodes(self, x:TensorImage):\n",
    "        noise = torch.normal(\n",
    "            mean=0.0, \n",
    "            std=0.005,\n",
    "            size=x.shape,\n",
    "            device='cuda'\n",
    "        )\n",
    "        return x + noise"
   ]
  },
  {
   "cell_type": "markdown",
   "metadata": {
    "id": "BNe-74MSdgjX"
   },
   "source": [
    "### 3.3.Loss and metrics"
   ]
  },
  {
   "cell_type": "markdown",
   "metadata": {
    "id": "gPvxyx_oxPEO"
   },
   "source": [
    "### 3.4. Others"
   ]
  },
  {
   "cell_type": "code",
   "execution_count": null,
   "metadata": {
    "id": "MvsRuXaKxQG-"
   },
   "outputs": [],
   "source": [
    "def datasets_info(dls):\n",
    "    for ds_i, ds in enumerate([dls.train_ds, dls.valid_ds]):\n",
    "        \n",
    "        ds_name = \"TRAIN\" if ds_i == 0 else \"VALID\"\n",
    "        print(f\"Dataset: {ds_name}\")\n",
    "        print(ds)\n",
    "        \n",
    "        print(\"\")"
   ]
  },
  {
   "cell_type": "markdown",
   "metadata": {
    "id": "KMRw2JD7KSOm"
   },
   "source": [
    "## 4. Experiment"
   ]
  },
  {
   "cell_type": "markdown",
   "metadata": {
    "id": "BKT7CT2D8kpS"
   },
   "source": [
    "### 4.1. DataBlock and DataLoaders"
   ]
  },
  {
   "cell_type": "code",
   "execution_count": null,
   "metadata": {
    "id": "pXPMZomifU8p"
   },
   "outputs": [],
   "source": [
    "tfms = []\n",
    "\n",
    "blocks = DataBlock(\n",
    "    blocks=(ImageBlock, RegressionBlock),\n",
    "    get_items=get_image_files,\n",
    "    get_y=get_y,\n",
    "    splitter=RandomSplitter(valid_pct=0.2, seed=42),\n",
    "    batch_tfms=tfms\n",
    ")\n",
    "\n",
    "dls = blocks.dataloaders(source=png_files_path)"
   ]
  },
  {
   "cell_type": "markdown",
   "metadata": {
    "id": "EqdkFL5QrNOi"
   },
   "source": [
    "### 4.2. Show details"
   ]
  },
  {
   "cell_type": "code",
   "execution_count": null,
   "metadata": {
    "colab": {
     "base_uri": "https://localhost:8080/"
    },
    "executionInfo": {
     "elapsed": 722,
     "status": "ok",
     "timestamp": 1617572199359,
     "user": {
      "displayName": "Jorge TFG",
      "photoUrl": "",
      "userId": "04695241847063352703"
     },
     "user_tz": -120
    },
    "id": "44ck4nlvvxUL",
    "outputId": "854d2db0-7169-45d0-b471-70e9fb93f82f"
   },
   "outputs": [
    {
     "data": {
      "text/plain": [
       "FlattenedLoss of MSELoss()"
      ]
     },
     "execution_count": 19,
     "metadata": {
      "tags": []
     },
     "output_type": "execute_result"
    }
   ],
   "source": [
    "dls.loss_func"
   ]
  },
  {
   "cell_type": "code",
   "execution_count": null,
   "metadata": {
    "colab": {
     "base_uri": "https://localhost:8080/"
    },
    "executionInfo": {
     "elapsed": 5286,
     "status": "ok",
     "timestamp": 1617572205331,
     "user": {
      "displayName": "Jorge TFG",
      "photoUrl": "",
      "userId": "04695241847063352703"
     },
     "user_tz": -120
    },
    "id": "i0gUX_gArK5d",
    "outputId": "e032957b-1168-49c7-d392-78a35bd432dc"
   },
   "outputs": [
    {
     "name": "stdout",
     "output_type": "stream",
     "text": [
      "Dataset: TRAIN\n",
      "(#2768) [(PILImage mode=RGB size=200x200, tensor([0.9600, 0.3600, 0.0000, 0.0900, 0.0000])),(PILImage mode=RGB size=200x200, tensor([0.9300, 0.0000, 0.0000, 0.3500, 0.0000])),(PILImage mode=RGB size=200x200, tensor([0.3200, 1.0000, 0.0300, 0.0000, 0.0000])),(PILImage mode=RGB size=200x200, tensor([0.1200, 0.7400, 0.6400, 0.0000, 0.0000])),(PILImage mode=RGB size=200x200, tensor([0.0000, 0.8200, 0.5100, 0.0400, 0.0000])),(PILImage mode=RGB size=200x200, tensor([0.9100, 0.5200, 0.0000, 0.0200, 0.0000])),(PILImage mode=RGB size=200x200, tensor([0.8300, 0.8100, 0.3100, 0.0000, 0.0000])),(PILImage mode=RGB size=200x200, tensor([0.2600, 1.0000, 0.0700, 0.0000, 0.0000])),(PILImage mode=RGB size=200x200, tensor([0.6000, 1.0000, 0.0100, 0.0000, 0.0000])),(PILImage mode=RGB size=200x200, tensor([0.9700, 0.8700, 0.0000, 0.0100, 0.0000]))...]\n",
      "\n",
      "Dataset: VALID\n",
      "(#692) [(PILImage mode=RGB size=200x200, tensor([1.0000, 0.1700, 0.0000, 0.0000, 0.0000])),(PILImage mode=RGB size=200x200, tensor([0.5700, 1.0000, 0.0500, 0.0000, 0.0000])),(PILImage mode=RGB size=200x200, tensor([0.4400, 1.0000, 0.0000, 0.0200, 0.0000])),(PILImage mode=RGB size=200x200, tensor([0.4300, 1.0000, 0.0000, 0.0000, 0.0000])),(PILImage mode=RGB size=200x200, tensor([0.9600, 0.0000, 0.0000, 0.1300, 0.0200])),(PILImage mode=RGB size=200x200, tensor([0.9500, 0.1200, 0.0000, 0.1700, 0.0000])),(PILImage mode=RGB size=200x200, tensor([0.9100, 0.5500, 0.0000, 0.0400, 0.0000])),(PILImage mode=RGB size=200x200, tensor([0.5700, 1.0000, 0.0000, 0.0600, 0.0000])),(PILImage mode=RGB size=200x200, tensor([0.8500, 0.7000, 0.0000, 0.0300, 0.0000])),(PILImage mode=RGB size=200x200, tensor([0.4100, 1.0000, 0.0000, 0.0300, 0.0000]))...]\n",
      "\n"
     ]
    }
   ],
   "source": [
    "datasets_info(dls)"
   ]
  },
  {
   "cell_type": "code",
   "execution_count": null,
   "metadata": {
    "colab": {
     "base_uri": "https://localhost:8080/",
     "height": 590
    },
    "executionInfo": {
     "elapsed": 18632,
     "status": "ok",
     "timestamp": 1617572221612,
     "user": {
      "displayName": "Jorge TFG",
      "photoUrl": "",
      "userId": "04695241847063352703"
     },
     "user_tz": -120
    },
    "id": "Oy4oSKk6rMrC",
    "outputId": "5d317251-d9ae-4f3c-a47f-f8af1024f439"
   },
   "outputs": [
    {
     "data": {
      "image/png": "[encoded data removed]",
      "text/plain": [
       "<Figure size 720x720 with 2 Axes>"
      ]
     },
     "metadata": {
      "needs_background": "light",
      "tags": []
     },
     "output_type": "display_data"
    }
   ],
   "source": [
    "dls.show_batch(nrows=2, ncols=1, figsize = (10, 10))"
   ]
  },
  {
   "cell_type": "markdown",
   "metadata": {
    "id": "my12IFUHrRbl"
   },
   "source": [
    "### 4.3. Learner and Training"
   ]
  },
  {
   "cell_type": "code",
   "execution_count": null,
   "metadata": {
    "colab": {
     "base_uri": "https://localhost:8080/",
     "height": 1000,
     "referenced_widgets": [
      "f9fec70ee61d410497fe1911fb21cf1e",
      "666d299189634a6aae2a8bb88f462b06",
      "22d7c48b80e64aa79423e6fbd5ba239f",
      "190faa6231c84c7ca671363eb4ca9ce0",
      "cee8d8d0e7274024a5492660b6c04ca8",
      "5f60595c07d04ba0a9bbaed495328168",
      "98252517f5fb46c6a9a8ed65c30385d8",
      "38e5087b7b204c9494bafada1eec53e6"
     ]
    },
    "executionInfo": {
     "elapsed": 1044798,
     "status": "ok",
     "timestamp": 1617573275577,
     "user": {
      "displayName": "Jorge TFG",
      "photoUrl": "",
      "userId": "04695241847063352703"
     },
     "user_tz": -120
    },
    "id": "nhQxDA1j8rkm",
    "outputId": "c8a7eb9c-7437-4ca8-f9dd-d1824d92e272"
   },
   "outputs": [
    {
     "name": "stderr",
     "output_type": "stream",
     "text": [
      "Downloading: \"https://download.pytorch.org/models/resnet34-333f7ec4.pth\" to /root/.cache/torch/hub/checkpoints/resnet34-333f7ec4.pth\n"
     ]
    },
    {
     "data": {
      "application/vnd.jupyter.widget-view+json": {
       "model_id": "f9fec70ee61d410497fe1911fb21cf1e",
       "version_major": 2,
       "version_minor": 0
      },
      "text/plain": [
       "HBox(children=(FloatProgress(value=0.0, max=87306240.0), HTML(value='')))"
      ]
     },
     "metadata": {
      "tags": []
     },
     "output_type": "display_data"
    },
    {
     "name": "stdout",
     "output_type": "stream",
     "text": [
      "\n"
     ]
    },
    {
     "data": {
      "text/html": [
       "<table border=\"1\" class=\"dataframe\">\n",
       "  <thead>\n",
       "    <tr style=\"text-align: left;\">\n",
       "      <th>epoch</th>\n",
       "      <th>train_loss</th>\n",
       "      <th>valid_loss</th>\n",
       "      <th>_rmse</th>\n",
       "      <th>time</th>\n",
       "    </tr>\n",
       "  </thead>\n",
       "  <tbody>\n",
       "    <tr>\n",
       "      <td>0</td>\n",
       "      <td>3.175545</td>\n",
       "      <td>0.767320</td>\n",
       "      <td>0.875968</td>\n",
       "      <td>06:40</td>\n",
       "    </tr>\n",
       "  </tbody>\n",
       "</table>"
      ],
      "text/plain": [
       "<IPython.core.display.HTML object>"
      ]
     },
     "metadata": {
      "tags": []
     },
     "output_type": "display_data"
    },
    {
     "data": {
      "image/png": "[encoded data removed]",
      "text/plain": [
       "<Figure size 432x288 with 1 Axes>"
      ]
     },
     "metadata": {
      "tags": []
     },
     "output_type": "display_data"
    },
    {
     "data": {
      "text/html": [
       "<table border=\"1\" class=\"dataframe\">\n",
       "  <thead>\n",
       "    <tr style=\"text-align: left;\">\n",
       "      <th>epoch</th>\n",
       "      <th>train_loss</th>\n",
       "      <th>valid_loss</th>\n",
       "      <th>_rmse</th>\n",
       "      <th>time</th>\n",
       "    </tr>\n",
       "  </thead>\n",
       "  <tbody>\n",
       "    <tr>\n",
       "      <td>0</td>\n",
       "      <td>1.970474</td>\n",
       "      <td>0.371267</td>\n",
       "      <td>0.609317</td>\n",
       "      <td>00:20</td>\n",
       "    </tr>\n",
       "    <tr>\n",
       "      <td>1</td>\n",
       "      <td>1.695717</td>\n",
       "      <td>0.258312</td>\n",
       "      <td>0.508244</td>\n",
       "      <td>00:21</td>\n",
       "    </tr>\n",
       "    <tr>\n",
       "      <td>2</td>\n",
       "      <td>1.472189</td>\n",
       "      <td>0.237081</td>\n",
       "      <td>0.486910</td>\n",
       "      <td>00:21</td>\n",
       "    </tr>\n",
       "    <tr>\n",
       "      <td>3</td>\n",
       "      <td>1.272964</td>\n",
       "      <td>0.167757</td>\n",
       "      <td>0.409582</td>\n",
       "      <td>00:21</td>\n",
       "    </tr>\n",
       "    <tr>\n",
       "      <td>4</td>\n",
       "      <td>1.044035</td>\n",
       "      <td>0.106153</td>\n",
       "      <td>0.325812</td>\n",
       "      <td>00:20</td>\n",
       "    </tr>\n",
       "    <tr>\n",
       "      <td>5</td>\n",
       "      <td>0.794048</td>\n",
       "      <td>0.084029</td>\n",
       "      <td>0.289877</td>\n",
       "      <td>00:21</td>\n",
       "    </tr>\n",
       "    <tr>\n",
       "      <td>6</td>\n",
       "      <td>0.598729</td>\n",
       "      <td>0.062119</td>\n",
       "      <td>0.249237</td>\n",
       "      <td>00:21</td>\n",
       "    </tr>\n",
       "    <tr>\n",
       "      <td>7</td>\n",
       "      <td>0.427703</td>\n",
       "      <td>0.048401</td>\n",
       "      <td>0.220001</td>\n",
       "      <td>00:21</td>\n",
       "    </tr>\n",
       "    <tr>\n",
       "      <td>8</td>\n",
       "      <td>0.300185</td>\n",
       "      <td>0.043127</td>\n",
       "      <td>0.207671</td>\n",
       "      <td>00:21</td>\n",
       "    </tr>\n",
       "    <tr>\n",
       "      <td>9</td>\n",
       "      <td>0.208466</td>\n",
       "      <td>0.035005</td>\n",
       "      <td>0.187095</td>\n",
       "      <td>00:21</td>\n",
       "    </tr>\n",
       "    <tr>\n",
       "      <td>10</td>\n",
       "      <td>0.146405</td>\n",
       "      <td>0.032231</td>\n",
       "      <td>0.179529</td>\n",
       "      <td>00:21</td>\n",
       "    </tr>\n",
       "    <tr>\n",
       "      <td>11</td>\n",
       "      <td>0.105910</td>\n",
       "      <td>0.030061</td>\n",
       "      <td>0.173381</td>\n",
       "      <td>00:21</td>\n",
       "    </tr>\n",
       "    <tr>\n",
       "      <td>12</td>\n",
       "      <td>0.078864</td>\n",
       "      <td>0.028083</td>\n",
       "      <td>0.167581</td>\n",
       "      <td>00:21</td>\n",
       "    </tr>\n",
       "    <tr>\n",
       "      <td>13</td>\n",
       "      <td>0.062354</td>\n",
       "      <td>0.027588</td>\n",
       "      <td>0.166097</td>\n",
       "      <td>00:21</td>\n",
       "    </tr>\n",
       "    <tr>\n",
       "      <td>14</td>\n",
       "      <td>0.051259</td>\n",
       "      <td>0.025819</td>\n",
       "      <td>0.160682</td>\n",
       "      <td>00:21</td>\n",
       "    </tr>\n",
       "    <tr>\n",
       "      <td>15</td>\n",
       "      <td>0.043522</td>\n",
       "      <td>0.025091</td>\n",
       "      <td>0.158401</td>\n",
       "      <td>00:21</td>\n",
       "    </tr>\n",
       "    <tr>\n",
       "      <td>16</td>\n",
       "      <td>0.038503</td>\n",
       "      <td>0.026649</td>\n",
       "      <td>0.163244</td>\n",
       "      <td>00:21</td>\n",
       "    </tr>\n",
       "    <tr>\n",
       "      <td>17</td>\n",
       "      <td>0.035991</td>\n",
       "      <td>0.025108</td>\n",
       "      <td>0.158455</td>\n",
       "      <td>00:21</td>\n",
       "    </tr>\n",
       "    <tr>\n",
       "      <td>18</td>\n",
       "      <td>0.033428</td>\n",
       "      <td>0.025480</td>\n",
       "      <td>0.159623</td>\n",
       "      <td>00:21</td>\n",
       "    </tr>\n",
       "    <tr>\n",
       "      <td>19</td>\n",
       "      <td>0.029818</td>\n",
       "      <td>0.025480</td>\n",
       "      <td>0.159626</td>\n",
       "      <td>00:21</td>\n",
       "    </tr>\n",
       "    <tr>\n",
       "      <td>20</td>\n",
       "      <td>0.027229</td>\n",
       "      <td>0.023365</td>\n",
       "      <td>0.152858</td>\n",
       "      <td>00:21</td>\n",
       "    </tr>\n",
       "    <tr>\n",
       "      <td>21</td>\n",
       "      <td>0.025331</td>\n",
       "      <td>0.023340</td>\n",
       "      <td>0.152774</td>\n",
       "      <td>00:21</td>\n",
       "    </tr>\n",
       "    <tr>\n",
       "      <td>22</td>\n",
       "      <td>0.023530</td>\n",
       "      <td>0.022758</td>\n",
       "      <td>0.150857</td>\n",
       "      <td>00:21</td>\n",
       "    </tr>\n",
       "    <tr>\n",
       "      <td>23</td>\n",
       "      <td>0.022220</td>\n",
       "      <td>0.022983</td>\n",
       "      <td>0.151600</td>\n",
       "      <td>00:21</td>\n",
       "    </tr>\n",
       "    <tr>\n",
       "      <td>24</td>\n",
       "      <td>0.021084</td>\n",
       "      <td>0.022878</td>\n",
       "      <td>0.151254</td>\n",
       "      <td>00:21</td>\n",
       "    </tr>\n",
       "    <tr>\n",
       "      <td>25</td>\n",
       "      <td>0.019706</td>\n",
       "      <td>0.022732</td>\n",
       "      <td>0.150771</td>\n",
       "      <td>00:21</td>\n",
       "    </tr>\n",
       "    <tr>\n",
       "      <td>26</td>\n",
       "      <td>0.018977</td>\n",
       "      <td>0.022364</td>\n",
       "      <td>0.149544</td>\n",
       "      <td>00:21</td>\n",
       "    </tr>\n",
       "    <tr>\n",
       "      <td>27</td>\n",
       "      <td>0.018042</td>\n",
       "      <td>0.022626</td>\n",
       "      <td>0.150421</td>\n",
       "      <td>00:21</td>\n",
       "    </tr>\n",
       "    <tr>\n",
       "      <td>28</td>\n",
       "      <td>0.017635</td>\n",
       "      <td>0.022322</td>\n",
       "      <td>0.149405</td>\n",
       "      <td>00:21</td>\n",
       "    </tr>\n",
       "    <tr>\n",
       "      <td>29</td>\n",
       "      <td>0.017250</td>\n",
       "      <td>0.022327</td>\n",
       "      <td>0.149424</td>\n",
       "      <td>00:21</td>\n",
       "    </tr>\n",
       "  </tbody>\n",
       "</table>"
      ],
      "text/plain": [
       "<IPython.core.display.HTML object>"
      ]
     },
     "metadata": {
      "tags": []
     },
     "output_type": "display_data"
    },
    {
     "data": {
      "image/png": "[encoded data removed]",
      "text/plain": [
       "<Figure size 432x288 with 1 Axes>"
      ]
     },
     "metadata": {
      "tags": []
     },
     "output_type": "display_data"
    }
   ],
   "source": [
    "learn = cnn_learner(\n",
    "    dls, resnet34, \n",
    "    metrics = rmse,\n",
    "    cbs = [\n",
    "        ShowGraphCallback(),\n",
    "        CSVLogger(fname=csv_results_path, append=true)\n",
    "    ]\n",
    ")\n",
    "\n",
    "learn.fine_tune(epochs=30)"
   ]
  }
 ],
 "metadata": {
  "accelerator": "GPU",
  "colab": {
   "authorship_tag": "ABX9TyPfIGwaQU1Dk0hF2LjmhDOu",
   "collapsed_sections": [],
   "mount_file_id": "1X9sBY9JUIUcAwNU2kshcNkqE7hLAAmpN",
   "name": "Regression-1.1_LossFunc-MSE.ipynb",
   "provenance": []
  },
  "kernelspec": {
   "display_name": "Python 3",
   "language": "python",
   "name": "python3"
  },
  "language_info": {
   "codemirror_mode": {
    "name": "ipython",
    "version": 3
   },
   "file_extension": ".py",
   "mimetype": "text/x-python",
   "name": "python",
   "nbconvert_exporter": "python",
   "pygments_lexer": "ipython3",
   "version": "3.8.5"
  },
  "widgets": {
   "application/vnd.jupyter.widget-state+json": {
    "190faa6231c84c7ca671363eb4ca9ce0": {
     "model_module": "@jupyter-widgets/controls",
     "model_name": "HTMLModel",
     "state": {
      "_dom_classes": [],
      "_model_module": "@jupyter-widgets/controls",
      "_model_module_version": "1.5.0",
      "_model_name": "HTMLModel",
      "_view_count": null,
      "_view_module": "@jupyter-widgets/controls",
      "_view_module_version": "1.5.0",
      "_view_name": "HTMLView",
      "description": "",
      "description_tooltip": null,
      "layout": "IPY_MODEL_38e5087b7b204c9494bafada1eec53e6",
      "placeholder": "​",
      "style": "IPY_MODEL_98252517f5fb46c6a9a8ed65c30385d8",
      "value": " 83.3M/83.3M [00:04&lt;00:00, 21.8MB/s]"
     }
    },
    "22d7c48b80e64aa79423e6fbd5ba239f": {
     "model_module": "@jupyter-widgets/controls",
     "model_name": "FloatProgressModel",
     "state": {
      "_dom_classes": [],
      "_model_module": "@jupyter-widgets/controls",
      "_model_module_version": "1.5.0",
      "_model_name": "FloatProgressModel",
      "_view_count": null,
      "_view_module": "@jupyter-widgets/controls",
      "_view_module_version": "1.5.0",
      "_view_name": "ProgressView",
      "bar_style": "success",
      "description": "100%",
      "description_tooltip": null,
      "layout": "IPY_MODEL_5f60595c07d04ba0a9bbaed495328168",
      "max": 87306240,
      "min": 0,
      "orientation": "horizontal",
      "style": "IPY_MODEL_cee8d8d0e7274024a5492660b6c04ca8",
      "value": 87306240
     }
    },
    "38e5087b7b204c9494bafada1eec53e6": {
     "model_module": "@jupyter-widgets/base",
     "model_name": "LayoutModel",
     "state": {
      "_model_module": "@jupyter-widgets/base",
      "_model_module_version": "1.2.0",
      "_model_name": "LayoutModel",
      "_view_count": null,
      "_view_module": "@jupyter-widgets/base",
      "_view_module_version": "1.2.0",
      "_view_name": "LayoutView",
      "align_content": null,
      "align_items": null,
      "align_self": null,
      "border": null,
      "bottom": null,
      "display": null,
      "flex": null,
      "flex_flow": null,
      "grid_area": null,
      "grid_auto_columns": null,
      "grid_auto_flow": null,
      "grid_auto_rows": null,
      "grid_column": null,
      "grid_gap": null,
      "grid_row": null,
      "grid_template_areas": null,
      "grid_template_columns": null,
      "grid_template_rows": null,
      "height": null,
      "justify_content": null,
      "justify_items": null,
      "left": null,
      "margin": null,
      "max_height": null,
      "max_width": null,
      "min_height": null,
      "min_width": null,
      "object_fit": null,
      "object_position": null,
      "order": null,
      "overflow": null,
      "overflow_x": null,
      "overflow_y": null,
      "padding": null,
      "right": null,
      "top": null,
      "visibility": null,
      "width": null
     }
    },
    "5f60595c07d04ba0a9bbaed495328168": {
     "model_module": "@jupyter-widgets/base",
     "model_name": "LayoutModel",
     "state": {
      "_model_module": "@jupyter-widgets/base",
      "_model_module_version": "1.2.0",
      "_model_name": "LayoutModel",
      "_view_count": null,
      "_view_module": "@jupyter-widgets/base",
      "_view_module_version": "1.2.0",
      "_view_name": "LayoutView",
      "align_content": null,
      "align_items": null,
      "align_self": null,
      "border": null,
      "bottom": null,
      "display": null,
      "flex": null,
      "flex_flow": null,
      "grid_area": null,
      "grid_auto_columns": null,
      "grid_auto_flow": null,
      "grid_auto_rows": null,
      "grid_column": null,
      "grid_gap": null,
      "grid_row": null,
      "grid_template_areas": null,
      "grid_template_columns": null,
      "grid_template_rows": null,
      "height": null,
      "justify_content": null,
      "justify_items": null,
      "left": null,
      "margin": null,
      "max_height": null,
      "max_width": null,
      "min_height": null,
      "min_width": null,
      "object_fit": null,
      "object_position": null,
      "order": null,
      "overflow": null,
      "overflow_x": null,
      "overflow_y": null,
      "padding": null,
      "right": null,
      "top": null,
      "visibility": null,
      "width": null
     }
    },
    "666d299189634a6aae2a8bb88f462b06": {
     "model_module": "@jupyter-widgets/base",
     "model_name": "LayoutModel",
     "state": {
      "_model_module": "@jupyter-widgets/base",
      "_model_module_version": "1.2.0",
      "_model_name": "LayoutModel",
      "_view_count": null,
      "_view_module": "@jupyter-widgets/base",
      "_view_module_version": "1.2.0",
      "_view_name": "LayoutView",
      "align_content": null,
      "align_items": null,
      "align_self": null,
      "border": null,
      "bottom": null,
      "display": null,
      "flex": null,
      "flex_flow": null,
      "grid_area": null,
      "grid_auto_columns": null,
      "grid_auto_flow": null,
      "grid_auto_rows": null,
      "grid_column": null,
      "grid_gap": null,
      "grid_row": null,
      "grid_template_areas": null,
      "grid_template_columns": null,
      "grid_template_rows": null,
      "height": null,
      "justify_content": null,
      "justify_items": null,
      "left": null,
      "margin": null,
      "max_height": null,
      "max_width": null,
      "min_height": null,
      "min_width": null,
      "object_fit": null,
      "object_position": null,
      "order": null,
      "overflow": null,
      "overflow_x": null,
      "overflow_y": null,
      "padding": null,
      "right": null,
      "top": null,
      "visibility": null,
      "width": null
     }
    },
    "98252517f5fb46c6a9a8ed65c30385d8": {
     "model_module": "@jupyter-widgets/controls",
     "model_name": "DescriptionStyleModel",
     "state": {
      "_model_module": "@jupyter-widgets/controls",
      "_model_module_version": "1.5.0",
      "_model_name": "DescriptionStyleModel",
      "_view_count": null,
      "_view_module": "@jupyter-widgets/base",
      "_view_module_version": "1.2.0",
      "_view_name": "StyleView",
      "description_width": ""
     }
    },
    "cee8d8d0e7274024a5492660b6c04ca8": {
     "model_module": "@jupyter-widgets/controls",
     "model_name": "ProgressStyleModel",
     "state": {
      "_model_module": "@jupyter-widgets/controls",
      "_model_module_version": "1.5.0",
      "_model_name": "ProgressStyleModel",
      "_view_count": null,
      "_view_module": "@jupyter-widgets/base",
      "_view_module_version": "1.2.0",
      "_view_name": "StyleView",
      "bar_color": null,
      "description_width": "initial"
     }
    },
    "f9fec70ee61d410497fe1911fb21cf1e": {
     "model_module": "@jupyter-widgets/controls",
     "model_name": "HBoxModel",
     "state": {
      "_dom_classes": [],
      "_model_module": "@jupyter-widgets/controls",
      "_model_module_version": "1.5.0",
      "_model_name": "HBoxModel",
      "_view_count": null,
      "_view_module": "@jupyter-widgets/controls",
      "_view_module_version": "1.5.0",
      "_view_name": "HBoxView",
      "box_style": "",
      "children": [
       "IPY_MODEL_22d7c48b80e64aa79423e6fbd5ba239f",
       "IPY_MODEL_190faa6231c84c7ca671363eb4ca9ce0"
      ],
      "layout": "IPY_MODEL_666d299189634a6aae2a8bb88f462b06"
     }
    }
   }
  }
 },
 "nbformat": 4,
 "nbformat_minor": 1
}
