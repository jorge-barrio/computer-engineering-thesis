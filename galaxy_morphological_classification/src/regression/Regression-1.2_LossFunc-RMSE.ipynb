{
 "cells": [
  {
   "cell_type": "markdown",
   "metadata": {
    "id": "pOVxY1smabpy"
   },
   "source": [
    "# Regression for morphological galaxy classification #1.2 (RMSE Loss)\n",
    "---\n",
    "**Author:** Jorge Barrio Conde\n",
    "\n",
    "**Tfms:** `[]`\n",
    "\n",
    "**Neural Network:** ResNet34\n",
    "\n",
    "**Training method:** `fine_tune()`\n",
    "\n",
    "**Loss function:** ``rmse_loss``\n",
    "\n",
    "**Epochs:** 30\n",
    "\n",
    "**Learning rate:** default\n",
    "\n",
    "Paper: *A catalog of visual-like mophologies in the 5 CANDELS fields using Deep-Learning* (M. Huertas-Company, 2015)"
   ]
  },
  {
   "cell_type": "markdown",
   "metadata": {
    "id": "sHiugZQj6fgK"
   },
   "source": [
    "## 0. Install fastai and fastbook (Google Colab)"
   ]
  },
  {
   "cell_type": "code",
   "execution_count": null,
   "metadata": {},
   "outputs": [],
   "source": [
    "!pip install -Uqq fastbook\n",
    "import fastbook\n",
    "fastbook.setup_book()"
   ]
  },
  {
   "cell_type": "markdown",
   "metadata": {
    "id": "Dt-l7DNtbBzU"
   },
   "source": [
    "## 1. Setup"
   ]
  },
  {
   "cell_type": "markdown",
   "metadata": {
    "id": "t8F19b46axHT"
   },
   "source": [
    "### Imports"
   ]
  },
  {
   "cell_type": "code",
   "execution_count": null,
   "metadata": {
    "colab": {
     "base_uri": "https://localhost:8080/",
     "height": 35
    },
    "executionInfo": {
     "elapsed": 1542,
     "status": "ok",
     "timestamp": 1617559213774,
     "user": {
      "displayName": "Jorge TFG",
      "photoUrl": "",
      "userId": "04695241847063352703"
     },
     "user_tz": -120
    },
    "id": "7YQa0gvCapr_",
    "outputId": "8a9cff4c-70fe-48a1-a399-9c17154eac81"
   },
   "outputs": [
    {
     "data": {
      "application/vnd.google.colaboratory.intrinsic+json": {
       "type": "string"
      },
      "text/plain": [
       "'2.3.0'"
      ]
     },
     "execution_count": 1,
     "metadata": {
      "tags": []
     },
     "output_type": "execute_result"
    }
   ],
   "source": [
    "import fastai\n",
    "from fastai.vision.all import *\n",
    "from fastbook import *\n",
    "\n",
    "fastai.__version__"
   ]
  },
  {
   "cell_type": "markdown",
   "metadata": {
    "id": "umvjm0g2a3fg"
   },
   "source": [
    "### Paths"
   ]
  },
  {
   "cell_type": "code",
   "execution_count": null,
   "metadata": {},
   "outputs": [],
   "source": [
    "# Specify project path\n",
    "project_root_path = \"/content/gdrive/MyDrive/galaxy_morphological_classification/\""
   ]
  },
  {
   "cell_type": "code",
   "execution_count": null,
   "metadata": {
    "id": "dLdZJN5obLIp"
   },
   "outputs": [],
   "source": [
    "cat_file_path = project_root_path + \"datasets/galaxies_main_props_with_struct_params_and_no_bad_objects_and_hudf_flags_and_morphs_and_z_flags6.cat\"\n",
    "png_files_path = project_root_path + \"datasets/rgb_200x200/\"\n",
    "csv_results_path = project_root_path + \"src/regression/results/1.2-NoTFMS-RMSELoss-ResNet34-fine_tune-30_epochs.csv\""
   ]
  },
  {
   "cell_type": "markdown",
   "metadata": {
    "id": "Hh_MCuArbSME"
   },
   "source": [
    "## 2. Prepare galaxies information"
   ]
  },
  {
   "cell_type": "markdown",
   "metadata": {
    "id": "ndg04M6NcA_X"
   },
   "source": [
    "### Read .cat file"
   ]
  },
  {
   "cell_type": "code",
   "execution_count": null,
   "metadata": {
    "id": "Zb6wf5wFbw6g"
   },
   "outputs": [],
   "source": [
    "import numpy as np\n",
    "import matplotlib.pyplot as plt\n",
    "from astropy.table import Table\n",
    "from astropy.io import fits\n",
    "\n",
    "tt = Table.read(\n",
    "    cat_file_path,\n",
    "    names=[\n",
    "        \"gal_id\",\"field\",\"ra\",\"dec\",\"mass\",\"z\",\n",
    "        \"flag_fit\",\"mag\",\"dmag\",\"re\",\"dre\",\"n\",\"dn\",\n",
    "        \"q\",\"dq\",\"pa\",\"dpa\",\"sn\",\n",
    "        \"IAU_name\",\"f_sph\",\"f_disk\",\"f_irr\",\"f_ps\",\n",
    "        \"f_unc\",\"max_f\",\"delta1-2\",\"dom_class\",\"entropy\",\n",
    "        \"zspec\",\"quality_zspec\",\"zphot\",\"zspec_legac\",\"zspec_zcosmos\",\n",
    "        \"confidence_class_zcosmos\",\"zspec_legac_dr3\",\"zspec_hathi\",\"zspec_damjanov\",\"zspec_damjanov_quality\",\n",
    "        \"hudf_for_B\",\"hudf_for_V\",\"hudf_for_I\",\"hudf_for_Y\",\"hudf_for_J\",\"hudf_for_H\"\n",
    "    ],\n",
    "    format=\"ascii.commented_header\")\n",
    "\n",
    "gals = np.array(tt[\"gal_id\"],dtype=\"U100\")\n",
    "ra = np.array(tt[\"ra\"])\n",
    "dec = np.array(tt[\"dec\"])\n",
    "field = np.array(tt[\"field\"])\n",
    "ar = np.array(tt[\"q\"])\n",
    "pa  = np.array(tt[\"pa\"])\n",
    "zz_old = np.array(tt[\"z\"])\n",
    "zspec = np.array(tt[\"zspec\"])\n",
    "quality_zspec = np.array(tt[\"quality_zspec\"])\n",
    "zphot = np.array(tt[\"zphot\"])\n",
    "zspec_legac = np.array(tt[\"zspec_legac\"])\n",
    "zspec_zcosmos = np.array(tt[\"zspec_zcosmos\"])\n",
    "confidence_class_zcosmos = np.array(tt[\"confidence_class_zcosmos\"])\n",
    "zspec_hathi = np.array(tt[\"zspec_hathi\"])\n",
    "zspec_legac_dr3 = np.array(tt[\"zspec_legac_dr3\"])\n",
    "zspec_damjanov = np.array(tt[\"zspec_damjanov\"])\n",
    "\n",
    "f_sph = np.array(tt[\"f_sph\"])\n",
    "f_disk = np.array(tt[\"f_disk\"])\n",
    "f_irr = np.array(tt[\"f_irr\"])\n",
    "f_ps = np.array(tt[\"f_ps\"])\n",
    "f_unc = np.array(tt[\"f_unc\"])"
   ]
  },
  {
   "cell_type": "markdown",
   "metadata": {
    "id": "mI1sl0rycC61"
   },
   "source": [
    "### Create information dictionary"
   ]
  },
  {
   "cell_type": "markdown",
   "metadata": {
    "id": "r8FuQEOec-hE"
   },
   "source": [
    "It's a dictionary with this structure:\n",
    "> ```python\n",
    "galaxies_fs = { morph_id_field.png : [f_sph, f_disk, f_irr, f_ps, f_unc] }\n",
    "```"
   ]
  },
  {
   "cell_type": "code",
   "execution_count": null,
   "metadata": {
    "id": "uVdbt8vll-3Z"
   },
   "outputs": [],
   "source": [
    "def get_morphology_Huertas15(f_sph, f_disk, f_irr):\n",
    "    if (f_sph > 0.667 and f_disk < 0.667 and f_irr < 0.1):\n",
    "        return \"SPH\"\n",
    "    elif (f_sph < 0.667 and f_disk > 0.667 and f_irr < 0.1):\n",
    "        return \"DISK\"\n",
    "    elif (f_sph > 0.667 and f_disk > 0.667 and f_irr < 0.1):\n",
    "        return \"DISKSPH\"\n",
    "    elif (f_sph < 0.667 and f_disk > 0.667 and f_irr > 0.1):\n",
    "        return \"DISKIRR\"\n",
    "    elif (f_sph < 0.667 and f_disk < 0.667 and f_irr > 0.1):\n",
    "        return \"IRR\"\n",
    "    else:\n",
    "        return \"NONE\""
   ]
  },
  {
   "cell_type": "code",
   "execution_count": null,
   "metadata": {
    "id": "09I9L_kVcQI2"
   },
   "outputs": [],
   "source": [
    "galaxies_fs = {}\n",
    "files = []\n",
    "\n",
    "for i in range(len(gals)):\n",
    "    morph = get_morphology_Huertas15(f_sph[i], f_disk[i], f_irr[i])\n",
    "\n",
    "    filename = morph + \"_\" + gals[i] + \"_\" + field[i] + \".png\"\n",
    "    targets = [f_sph[i],f_disk[i],f_irr[i],f_ps[i],f_unc[i]]\n",
    "    \n",
    "    # Add a new item to the dictionary\n",
    "    galaxies_fs.update({ filename : targets })"
   ]
  },
  {
   "cell_type": "markdown",
   "metadata": {
    "id": "s3CvkMsPdaAX"
   },
   "source": [
    "## 3. My functions"
   ]
  },
  {
   "cell_type": "markdown",
   "metadata": {
    "id": "xy85Ghqadcjo"
   },
   "source": [
    "### 3.1. Getters"
   ]
  },
  {
   "cell_type": "code",
   "execution_count": null,
   "metadata": {
    "id": "apaVOg0Hfygm"
   },
   "outputs": [],
   "source": [
    "import os\n",
    "\n",
    "def get_y(source):\n",
    "    '''\n",
    "    Pre: file = source/morphology_id_field.png\n",
    "    '''\n",
    "    path = str(source)\n",
    "    filename = os.path.basename(path)\n",
    "    return galaxies_fs.get(filename) # Search in the dictionary"
   ]
  },
  {
   "cell_type": "markdown",
   "metadata": {
    "id": "_efHPVgPdelp"
   },
   "source": [
    "### 3.2. Tfms"
   ]
  },
  {
   "cell_type": "code",
   "execution_count": null,
   "metadata": {
    "id": "K-OVYhCqgEvM"
   },
   "outputs": [],
   "source": [
    "def random_rotation(x):\n",
    "    '''\n",
    "    Return a float tensor equal in size to batch with random\n",
    "    rotations multiples of 90. \n",
    "    \n",
    "    x: full batch tensor\n",
    "    '''\n",
    "    size = x.size(0)\n",
    "    result = torch.zeros(([size]), dtype=float, device='cuda')\n",
    "    \n",
    "    for i in range(size):\n",
    "        degree = torch.rand(1)\n",
    "        if (degree < 0.25):\n",
    "            result[i] = 0.0\n",
    "        elif (degree < 0.5):\n",
    "            result[i] = 90.0\n",
    "        elif (degree < 0.75):\n",
    "            result[i] = 180.0\n",
    "        else:\n",
    "            result[i] = 270.0\n",
    "    \n",
    "    return result"
   ]
  },
  {
   "cell_type": "code",
   "execution_count": null,
   "metadata": {
    "id": "AKpQ0LgcgIoq"
   },
   "outputs": [],
   "source": [
    "class GaussianNoise(Transform):\n",
    "    order = 100 #after normalize\n",
    "    \n",
    "    def encodes(self, x:TensorImage):\n",
    "        noise = torch.normal(\n",
    "            mean=0.0, \n",
    "            std=0.005,\n",
    "            size=x.shape,\n",
    "            device='cuda'\n",
    "        )\n",
    "        return x + noise"
   ]
  },
  {
   "cell_type": "markdown",
   "metadata": {
    "id": "BNe-74MSdgjX"
   },
   "source": [
    "### 3.3.Loss and metrics"
   ]
  },
  {
   "cell_type": "code",
   "execution_count": null,
   "metadata": {
    "id": "RmP77wqofpD2"
   },
   "outputs": [],
   "source": [
    "def rmse_loss(preds, targs):\n",
    "    return ((preds-targs)**2).mean().sqrt()  # rmse"
   ]
  },
  {
   "cell_type": "markdown",
   "metadata": {
    "id": "gPvxyx_oxPEO"
   },
   "source": [
    "### 3.4. Others"
   ]
  },
  {
   "cell_type": "code",
   "execution_count": null,
   "metadata": {
    "id": "MvsRuXaKxQG-"
   },
   "outputs": [],
   "source": [
    "def datasets_info(dls):\n",
    "    for ds_i, ds in enumerate([dls.train_ds, dls.valid_ds]):\n",
    "        \n",
    "        ds_name = \"TRAIN\" if ds_i == 0 else \"VALID\"\n",
    "        print(f\"Dataset: {ds_name}\")\n",
    "        print(ds)\n",
    "        \n",
    "        print(\"\")"
   ]
  },
  {
   "cell_type": "markdown",
   "metadata": {
    "id": "KMRw2JD7KSOm"
   },
   "source": [
    "## 4. Experiment"
   ]
  },
  {
   "cell_type": "markdown",
   "metadata": {
    "id": "BKT7CT2D8kpS"
   },
   "source": [
    "### 4.1. DataBlock and DataLoaders"
   ]
  },
  {
   "cell_type": "code",
   "execution_count": null,
   "metadata": {
    "id": "pXPMZomifU8p"
   },
   "outputs": [],
   "source": [
    "tfms = []\n",
    "\n",
    "blocks = DataBlock(\n",
    "    blocks=(ImageBlock, RegressionBlock),\n",
    "    get_items=get_image_files,\n",
    "    get_y=get_y,\n",
    "    splitter=RandomSplitter(valid_pct=0.2, seed=42),\n",
    "    batch_tfms=tfms\n",
    ")\n",
    "\n",
    "dls = blocks.dataloaders(source=png_files_path)"
   ]
  },
  {
   "cell_type": "markdown",
   "metadata": {
    "id": "EqdkFL5QrNOi"
   },
   "source": [
    "### 4.2. Show details"
   ]
  },
  {
   "cell_type": "code",
   "execution_count": null,
   "metadata": {
    "colab": {
     "base_uri": "https://localhost:8080/"
    },
    "executionInfo": {
     "elapsed": 2265,
     "status": "ok",
     "timestamp": 1617559248705,
     "user": {
      "displayName": "Jorge TFG",
      "photoUrl": "",
      "userId": "04695241847063352703"
     },
     "user_tz": -120
    },
    "id": "44ck4nlvvxUL",
    "outputId": "4e7adf98-1d41-42ba-8129-0c7fa494298f"
   },
   "outputs": [
    {
     "data": {
      "text/plain": [
       "FlattenedLoss of MSELoss()"
      ]
     },
     "execution_count": 14,
     "metadata": {
      "tags": []
     },
     "output_type": "execute_result"
    }
   ],
   "source": [
    "dls.loss_func"
   ]
  },
  {
   "cell_type": "code",
   "execution_count": null,
   "metadata": {
    "colab": {
     "base_uri": "https://localhost:8080/"
    },
    "executionInfo": {
     "elapsed": 980,
     "status": "ok",
     "timestamp": 1617559248706,
     "user": {
      "displayName": "Jorge TFG",
      "photoUrl": "",
      "userId": "04695241847063352703"
     },
     "user_tz": -120
    },
    "id": "i0gUX_gArK5d",
    "outputId": "4e12aa66-dec0-4ab6-b497-ce04aaecec4b"
   },
   "outputs": [
    {
     "name": "stdout",
     "output_type": "stream",
     "text": [
      "Dataset: TRAIN\n",
      "(#2768) [(PILImage mode=RGB size=200x200, tensor([0.9600, 0.3600, 0.0000, 0.0900, 0.0000])),(PILImage mode=RGB size=200x200, tensor([0.9300, 0.0000, 0.0000, 0.3500, 0.0000])),(PILImage mode=RGB size=200x200, tensor([0.3200, 1.0000, 0.0300, 0.0000, 0.0000])),(PILImage mode=RGB size=200x200, tensor([0.1200, 0.7400, 0.6400, 0.0000, 0.0000])),(PILImage mode=RGB size=200x200, tensor([0.0000, 0.8200, 0.5100, 0.0400, 0.0000])),(PILImage mode=RGB size=200x200, tensor([0.9100, 0.5200, 0.0000, 0.0200, 0.0000])),(PILImage mode=RGB size=200x200, tensor([0.8300, 0.8100, 0.3100, 0.0000, 0.0000])),(PILImage mode=RGB size=200x200, tensor([0.2600, 1.0000, 0.0700, 0.0000, 0.0000])),(PILImage mode=RGB size=200x200, tensor([0.6000, 1.0000, 0.0100, 0.0000, 0.0000])),(PILImage mode=RGB size=200x200, tensor([0.9700, 0.8700, 0.0000, 0.0100, 0.0000]))...]\n",
      "\n",
      "Dataset: VALID\n",
      "(#692) [(PILImage mode=RGB size=200x200, tensor([1.0000, 0.1700, 0.0000, 0.0000, 0.0000])),(PILImage mode=RGB size=200x200, tensor([0.5700, 1.0000, 0.0500, 0.0000, 0.0000])),(PILImage mode=RGB size=200x200, tensor([0.4400, 1.0000, 0.0000, 0.0200, 0.0000])),(PILImage mode=RGB size=200x200, tensor([0.4300, 1.0000, 0.0000, 0.0000, 0.0000])),(PILImage mode=RGB size=200x200, tensor([0.9600, 0.0000, 0.0000, 0.1300, 0.0200])),(PILImage mode=RGB size=200x200, tensor([0.9500, 0.1200, 0.0000, 0.1700, 0.0000])),(PILImage mode=RGB size=200x200, tensor([0.9100, 0.5500, 0.0000, 0.0400, 0.0000])),(PILImage mode=RGB size=200x200, tensor([0.5700, 1.0000, 0.0000, 0.0600, 0.0000])),(PILImage mode=RGB size=200x200, tensor([0.8500, 0.7000, 0.0000, 0.0300, 0.0000])),(PILImage mode=RGB size=200x200, tensor([0.4100, 1.0000, 0.0000, 0.0300, 0.0000]))...]\n",
      "\n"
     ]
    }
   ],
   "source": [
    "datasets_info(dls)"
   ]
  },
  {
   "cell_type": "code",
   "execution_count": null,
   "metadata": {
    "colab": {
     "base_uri": "https://localhost:8080/",
     "height": 590
    },
    "executionInfo": {
     "elapsed": 1136,
     "status": "ok",
     "timestamp": 1617559250767,
     "user": {
      "displayName": "Jorge TFG",
      "photoUrl": "",
      "userId": "04695241847063352703"
     },
     "user_tz": -120
    },
    "id": "Oy4oSKk6rMrC",
    "outputId": "1094f8dd-34ba-41f1-8da0-8ef6281549c1"
   },
   "outputs": [
    {
     "data": {
      "image/png": "[encoded data removed]",
      "text/plain": [
       "<Figure size 720x720 with 2 Axes>"
      ]
     },
     "metadata": {
      "needs_background": "light",
      "tags": []
     },
     "output_type": "display_data"
    }
   ],
   "source": [
    "dls.show_batch(nrows=2, ncols=1, figsize = (10, 10))"
   ]
  },
  {
   "cell_type": "markdown",
   "metadata": {
    "id": "my12IFUHrRbl"
   },
   "source": [
    "### 4.3. Learner and Training"
   ]
  },
  {
   "cell_type": "code",
   "execution_count": null,
   "metadata": {
    "colab": {
     "base_uri": "https://localhost:8080/",
     "height": 1000
    },
    "executionInfo": {
     "elapsed": 675313,
     "status": "ok",
     "timestamp": 1617560008279,
     "user": {
      "displayName": "Jorge TFG",
      "photoUrl": "",
      "userId": "04695241847063352703"
     },
     "user_tz": -120
    },
    "id": "nhQxDA1j8rkm",
    "outputId": "faf073db-84a1-4381-cd39-552a2775f7b5"
   },
   "outputs": [
    {
     "data": {
      "text/html": [
       "<table border=\"1\" class=\"dataframe\">\n",
       "  <thead>\n",
       "    <tr style=\"text-align: left;\">\n",
       "      <th>epoch</th>\n",
       "      <th>train_loss</th>\n",
       "      <th>valid_loss</th>\n",
       "      <th>_rmse</th>\n",
       "      <th>time</th>\n",
       "    </tr>\n",
       "  </thead>\n",
       "  <tbody>\n",
       "    <tr>\n",
       "      <td>0</td>\n",
       "      <td>1.771053</td>\n",
       "      <td>0.881225</td>\n",
       "      <td>0.882075</td>\n",
       "      <td>00:16</td>\n",
       "    </tr>\n",
       "  </tbody>\n",
       "</table>"
      ],
      "text/plain": [
       "<IPython.core.display.HTML object>"
      ]
     },
     "metadata": {
      "tags": []
     },
     "output_type": "display_data"
    },
    {
     "data": {
      "image/png": "[encoded data removed]",
      "text/plain": [
       "<Figure size 432x288 with 1 Axes>"
      ]
     },
     "metadata": {
      "tags": []
     },
     "output_type": "display_data"
    },
    {
     "data": {
      "text/html": [
       "<table border=\"1\" class=\"dataframe\">\n",
       "  <thead>\n",
       "    <tr style=\"text-align: left;\">\n",
       "      <th>epoch</th>\n",
       "      <th>train_loss</th>\n",
       "      <th>valid_loss</th>\n",
       "      <th>_rmse</th>\n",
       "      <th>time</th>\n",
       "    </tr>\n",
       "  </thead>\n",
       "  <tbody>\n",
       "    <tr>\n",
       "      <td>0</td>\n",
       "      <td>1.382732</td>\n",
       "      <td>0.600051</td>\n",
       "      <td>0.600853</td>\n",
       "      <td>00:22</td>\n",
       "    </tr>\n",
       "    <tr>\n",
       "      <td>1</td>\n",
       "      <td>1.287267</td>\n",
       "      <td>0.529066</td>\n",
       "      <td>0.529464</td>\n",
       "      <td>00:21</td>\n",
       "    </tr>\n",
       "    <tr>\n",
       "      <td>2</td>\n",
       "      <td>1.196868</td>\n",
       "      <td>0.504695</td>\n",
       "      <td>0.505616</td>\n",
       "      <td>00:21</td>\n",
       "    </tr>\n",
       "    <tr>\n",
       "      <td>3</td>\n",
       "      <td>1.095889</td>\n",
       "      <td>0.404426</td>\n",
       "      <td>0.404623</td>\n",
       "      <td>00:21</td>\n",
       "    </tr>\n",
       "    <tr>\n",
       "      <td>4</td>\n",
       "      <td>0.975144</td>\n",
       "      <td>0.329199</td>\n",
       "      <td>0.329510</td>\n",
       "      <td>00:21</td>\n",
       "    </tr>\n",
       "    <tr>\n",
       "      <td>5</td>\n",
       "      <td>0.839101</td>\n",
       "      <td>0.304394</td>\n",
       "      <td>0.304709</td>\n",
       "      <td>00:21</td>\n",
       "    </tr>\n",
       "    <tr>\n",
       "      <td>6</td>\n",
       "      <td>0.693016</td>\n",
       "      <td>0.258604</td>\n",
       "      <td>0.258913</td>\n",
       "      <td>00:21</td>\n",
       "    </tr>\n",
       "    <tr>\n",
       "      <td>7</td>\n",
       "      <td>0.551678</td>\n",
       "      <td>0.223876</td>\n",
       "      <td>0.224177</td>\n",
       "      <td>00:21</td>\n",
       "    </tr>\n",
       "    <tr>\n",
       "      <td>8</td>\n",
       "      <td>0.432904</td>\n",
       "      <td>0.178839</td>\n",
       "      <td>0.179131</td>\n",
       "      <td>00:21</td>\n",
       "    </tr>\n",
       "    <tr>\n",
       "      <td>9</td>\n",
       "      <td>0.339796</td>\n",
       "      <td>0.172922</td>\n",
       "      <td>0.173117</td>\n",
       "      <td>00:21</td>\n",
       "    </tr>\n",
       "    <tr>\n",
       "      <td>10</td>\n",
       "      <td>0.284362</td>\n",
       "      <td>0.174837</td>\n",
       "      <td>0.175160</td>\n",
       "      <td>00:21</td>\n",
       "    </tr>\n",
       "    <tr>\n",
       "      <td>11</td>\n",
       "      <td>0.242310</td>\n",
       "      <td>0.160937</td>\n",
       "      <td>0.161401</td>\n",
       "      <td>00:21</td>\n",
       "    </tr>\n",
       "    <tr>\n",
       "      <td>12</td>\n",
       "      <td>0.217315</td>\n",
       "      <td>0.167103</td>\n",
       "      <td>0.167624</td>\n",
       "      <td>00:21</td>\n",
       "    </tr>\n",
       "    <tr>\n",
       "      <td>13</td>\n",
       "      <td>0.199549</td>\n",
       "      <td>0.161595</td>\n",
       "      <td>0.162125</td>\n",
       "      <td>00:21</td>\n",
       "    </tr>\n",
       "    <tr>\n",
       "      <td>14</td>\n",
       "      <td>0.183620</td>\n",
       "      <td>0.153713</td>\n",
       "      <td>0.154315</td>\n",
       "      <td>00:21</td>\n",
       "    </tr>\n",
       "    <tr>\n",
       "      <td>15</td>\n",
       "      <td>0.173075</td>\n",
       "      <td>0.160687</td>\n",
       "      <td>0.161222</td>\n",
       "      <td>00:21</td>\n",
       "    </tr>\n",
       "    <tr>\n",
       "      <td>16</td>\n",
       "      <td>0.163165</td>\n",
       "      <td>0.151618</td>\n",
       "      <td>0.152212</td>\n",
       "      <td>00:21</td>\n",
       "    </tr>\n",
       "    <tr>\n",
       "      <td>17</td>\n",
       "      <td>0.158085</td>\n",
       "      <td>0.151070</td>\n",
       "      <td>0.151786</td>\n",
       "      <td>00:21</td>\n",
       "    </tr>\n",
       "    <tr>\n",
       "      <td>18</td>\n",
       "      <td>0.147900</td>\n",
       "      <td>0.146453</td>\n",
       "      <td>0.147159</td>\n",
       "      <td>00:21</td>\n",
       "    </tr>\n",
       "    <tr>\n",
       "      <td>19</td>\n",
       "      <td>0.139497</td>\n",
       "      <td>0.147915</td>\n",
       "      <td>0.148619</td>\n",
       "      <td>00:21</td>\n",
       "    </tr>\n",
       "    <tr>\n",
       "      <td>20</td>\n",
       "      <td>0.132678</td>\n",
       "      <td>0.145326</td>\n",
       "      <td>0.146208</td>\n",
       "      <td>00:21</td>\n",
       "    </tr>\n",
       "    <tr>\n",
       "      <td>21</td>\n",
       "      <td>0.126490</td>\n",
       "      <td>0.147657</td>\n",
       "      <td>0.148552</td>\n",
       "      <td>00:21</td>\n",
       "    </tr>\n",
       "    <tr>\n",
       "      <td>22</td>\n",
       "      <td>0.119976</td>\n",
       "      <td>0.141925</td>\n",
       "      <td>0.142729</td>\n",
       "      <td>00:21</td>\n",
       "    </tr>\n",
       "    <tr>\n",
       "      <td>23</td>\n",
       "      <td>0.115250</td>\n",
       "      <td>0.143657</td>\n",
       "      <td>0.144342</td>\n",
       "      <td>00:22</td>\n",
       "    </tr>\n",
       "    <tr>\n",
       "      <td>24</td>\n",
       "      <td>0.111154</td>\n",
       "      <td>0.142791</td>\n",
       "      <td>0.143404</td>\n",
       "      <td>00:21</td>\n",
       "    </tr>\n",
       "    <tr>\n",
       "      <td>25</td>\n",
       "      <td>0.105911</td>\n",
       "      <td>0.143156</td>\n",
       "      <td>0.143778</td>\n",
       "      <td>00:21</td>\n",
       "    </tr>\n",
       "    <tr>\n",
       "      <td>26</td>\n",
       "      <td>0.105312</td>\n",
       "      <td>0.141652</td>\n",
       "      <td>0.142279</td>\n",
       "      <td>00:21</td>\n",
       "    </tr>\n",
       "    <tr>\n",
       "      <td>27</td>\n",
       "      <td>0.102687</td>\n",
       "      <td>0.142222</td>\n",
       "      <td>0.142891</td>\n",
       "      <td>00:21</td>\n",
       "    </tr>\n",
       "    <tr>\n",
       "      <td>28</td>\n",
       "      <td>0.099993</td>\n",
       "      <td>0.141575</td>\n",
       "      <td>0.142224</td>\n",
       "      <td>00:21</td>\n",
       "    </tr>\n",
       "    <tr>\n",
       "      <td>29</td>\n",
       "      <td>0.099357</td>\n",
       "      <td>0.141500</td>\n",
       "      <td>0.142169</td>\n",
       "      <td>00:21</td>\n",
       "    </tr>\n",
       "  </tbody>\n",
       "</table>"
      ],
      "text/plain": [
       "<IPython.core.display.HTML object>"
      ]
     },
     "metadata": {
      "tags": []
     },
     "output_type": "display_data"
    },
    {
     "data": {
      "image/png": "[encoded data removed]",
      "text/plain": [
       "<Figure size 432x288 with 1 Axes>"
      ]
     },
     "metadata": {
      "tags": []
     },
     "output_type": "display_data"
    }
   ],
   "source": [
    "learn = cnn_learner(\n",
    "    dls, resnet34, \n",
    "    metrics = rmse,\n",
    "    loss_func=rmse_loss, \n",
    "    cbs = [\n",
    "        ShowGraphCallback(),\n",
    "        CSVLogger(fname=csv_results_path, append=true)\n",
    "    ]\n",
    ")\n",
    "\n",
    "learn.fine_tune(epochs=30)"
   ]
  }
 ],
 "metadata": {
  "accelerator": "GPU",
  "colab": {
   "authorship_tag": "ABX9TyMTucP7ctYRFAD3cyx3ArHY",
   "collapsed_sections": [],
   "mount_file_id": "1X9sBY9JUIUcAwNU2kshcNkqE7hLAAmpN",
   "name": "Regression-1.2_LossFunc-RMSE.ipynb",
   "provenance": []
  },
  "kernelspec": {
   "display_name": "Python 3",
   "language": "python",
   "name": "python3"
  },
  "language_info": {
   "codemirror_mode": {
    "name": "ipython",
    "version": 3
   },
   "file_extension": ".py",
   "mimetype": "text/x-python",
   "name": "python",
   "nbconvert_exporter": "python",
   "pygments_lexer": "ipython3",
   "version": "3.8.5"
  }
 },
 "nbformat": 4,
 "nbformat_minor": 1
}
