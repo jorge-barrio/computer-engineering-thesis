{
 "cells": [
  {
   "cell_type": "markdown",
   "metadata": {
    "id": "pOVxY1smabpy"
   },
   "source": [
    "# Regression for morphological galaxy classification #1.3 (RMSE Label Smoothing)\n",
    "---\n",
    "**Author:** Jorge Barrio Conde\n",
    "\n",
    "**Tfms:** `[]`\n",
    "\n",
    "**Neural Network:** ResNet34\n",
    "\n",
    "**Training method:** `fine_tune()`\n",
    "\n",
    "**Loss function:** ``rmse_label_smoothing``\n",
    "\n",
    "**Epochs:** 30\n",
    "\n",
    "**Learning rate:** default\n",
    "\n",
    "Paper: *A catalog of visual-like mophologies in the 5 CANDELS fields using Deep-Learning* (M. Huertas-Company, 2015)"
   ]
  },
  {
   "cell_type": "markdown",
   "metadata": {
    "id": "sHiugZQj6fgK"
   },
   "source": [
    "## 0. Install fastai and fastbook (Google Colab)"
   ]
  },
  {
   "cell_type": "code",
   "execution_count": null,
   "metadata": {},
   "outputs": [],
   "source": [
    "!pip install -Uqq fastbook\n",
    "import fastbook\n",
    "fastbook.setup_book()"
   ]
  },
  {
   "cell_type": "markdown",
   "metadata": {
    "id": "Dt-l7DNtbBzU"
   },
   "source": [
    "## 1. Setup"
   ]
  },
  {
   "cell_type": "markdown",
   "metadata": {
    "id": "t8F19b46axHT"
   },
   "source": [
    "### Imports"
   ]
  },
  {
   "cell_type": "code",
   "execution_count": null,
   "metadata": {
    "colab": {
     "base_uri": "https://localhost:8080/"
    },
    "executionInfo": {
     "elapsed": 1781,
     "status": "ok",
     "timestamp": 1617560199710,
     "user": {
      "displayName": "Jorge TFG",
      "photoUrl": "",
      "userId": "04695241847063352703"
     },
     "user_tz": -120
    },
    "id": "7YQa0gvCapr_",
    "outputId": "8575d16d-a979-4b2a-f92d-c6dccc71de4d"
   },
   "outputs": [
    {
     "data": {
      "application/vnd.google.colaboratory.intrinsic+json": {
       "type": "string"
      },
      "text/plain": [
       "'2.3.0'"
      ]
     },
     "execution_count": 1,
     "metadata": {
      "tags": []
     },
     "output_type": "execute_result"
    }
   ],
   "source": [
    "import fastai\n",
    "from fastai.vision.all import *\n",
    "from fastbook import *\n",
    "\n",
    "fastai.__version__"
   ]
  },
  {
   "cell_type": "markdown",
   "metadata": {
    "id": "umvjm0g2a3fg"
   },
   "source": [
    "### Paths"
   ]
  },
  {
   "cell_type": "code",
   "execution_count": null,
   "metadata": {},
   "outputs": [],
   "source": [
    "# Specify project path\n",
    "project_root_path = \"/content/gdrive/MyDrive/galaxy_morphological_classification/\""
   ]
  },
  {
   "cell_type": "code",
   "execution_count": null,
   "metadata": {
    "id": "dLdZJN5obLIp"
   },
   "outputs": [],
   "source": [
    "cat_file_path = project_root_path + \"datasets/galaxies_main_props_with_struct_params_and_no_bad_objects_and_hudf_flags_and_morphs_and_z_flags6.cat\"\n",
    "png_files_path = project_root_path + \"datasets/rgb_200x200/\"\n",
    "csv_results_path = project_root_path + \"src/regression/results/1.3-NoTFMS-RMSELabelSmoothing-ResNet34-fine_tune-30_epochs.csv\""
   ]
  },
  {
   "cell_type": "markdown",
   "metadata": {
    "id": "Hh_MCuArbSME"
   },
   "source": [
    "## 2. Prepare galaxies information"
   ]
  },
  {
   "cell_type": "markdown",
   "metadata": {
    "id": "ndg04M6NcA_X"
   },
   "source": [
    "### Read .cat file"
   ]
  },
  {
   "cell_type": "code",
   "execution_count": null,
   "metadata": {
    "id": "Zb6wf5wFbw6g"
   },
   "outputs": [],
   "source": [
    "import numpy as np\n",
    "import matplotlib.pyplot as plt\n",
    "from astropy.table import Table\n",
    "from astropy.io import fits\n",
    "\n",
    "tt = Table.read(\n",
    "    cat_file_path,\n",
    "    names=[\n",
    "        \"gal_id\",\"field\",\"ra\",\"dec\",\"mass\",\"z\",\n",
    "        \"flag_fit\",\"mag\",\"dmag\",\"re\",\"dre\",\"n\",\"dn\",\n",
    "        \"q\",\"dq\",\"pa\",\"dpa\",\"sn\",\n",
    "        \"IAU_name\",\"f_sph\",\"f_disk\",\"f_irr\",\"f_ps\",\n",
    "        \"f_unc\",\"max_f\",\"delta1-2\",\"dom_class\",\"entropy\",\n",
    "        \"zspec\",\"quality_zspec\",\"zphot\",\"zspec_legac\",\"zspec_zcosmos\",\n",
    "        \"confidence_class_zcosmos\",\"zspec_legac_dr3\",\"zspec_hathi\",\"zspec_damjanov\",\"zspec_damjanov_quality\",\n",
    "        \"hudf_for_B\",\"hudf_for_V\",\"hudf_for_I\",\"hudf_for_Y\",\"hudf_for_J\",\"hudf_for_H\"\n",
    "    ],\n",
    "    format=\"ascii.commented_header\")\n",
    "\n",
    "gals = np.array(tt[\"gal_id\"],dtype=\"U100\")\n",
    "ra = np.array(tt[\"ra\"])\n",
    "dec = np.array(tt[\"dec\"])\n",
    "field = np.array(tt[\"field\"])\n",
    "ar = np.array(tt[\"q\"])\n",
    "pa  = np.array(tt[\"pa\"])\n",
    "zz_old = np.array(tt[\"z\"])\n",
    "zspec = np.array(tt[\"zspec\"])\n",
    "quality_zspec = np.array(tt[\"quality_zspec\"])\n",
    "zphot = np.array(tt[\"zphot\"])\n",
    "zspec_legac = np.array(tt[\"zspec_legac\"])\n",
    "zspec_zcosmos = np.array(tt[\"zspec_zcosmos\"])\n",
    "confidence_class_zcosmos = np.array(tt[\"confidence_class_zcosmos\"])\n",
    "zspec_hathi = np.array(tt[\"zspec_hathi\"])\n",
    "zspec_legac_dr3 = np.array(tt[\"zspec_legac_dr3\"])\n",
    "zspec_damjanov = np.array(tt[\"zspec_damjanov\"])\n",
    "\n",
    "f_sph = np.array(tt[\"f_sph\"])\n",
    "f_disk = np.array(tt[\"f_disk\"])\n",
    "f_irr = np.array(tt[\"f_irr\"])\n",
    "f_ps = np.array(tt[\"f_ps\"])\n",
    "f_unc = np.array(tt[\"f_unc\"])"
   ]
  },
  {
   "cell_type": "markdown",
   "metadata": {
    "id": "mI1sl0rycC61"
   },
   "source": [
    "### Create information dictionary"
   ]
  },
  {
   "cell_type": "markdown",
   "metadata": {
    "id": "r8FuQEOec-hE"
   },
   "source": [
    "It's a dictionary with this structure:\n",
    "> ```python\n",
    "galaxies_fs = { morph_id_field.png : [f_sph, f_disk, f_irr, f_ps, f_unc] }\n",
    "```"
   ]
  },
  {
   "cell_type": "code",
   "execution_count": null,
   "metadata": {
    "id": "uVdbt8vll-3Z"
   },
   "outputs": [],
   "source": [
    "def get_morphology_Huertas15(f_sph, f_disk, f_irr):\n",
    "    if (f_sph > 0.667 and f_disk < 0.667 and f_irr < 0.1):\n",
    "        return \"SPH\"\n",
    "    elif (f_sph < 0.667 and f_disk > 0.667 and f_irr < 0.1):\n",
    "        return \"DISK\"\n",
    "    elif (f_sph > 0.667 and f_disk > 0.667 and f_irr < 0.1):\n",
    "        return \"DISKSPH\"\n",
    "    elif (f_sph < 0.667 and f_disk > 0.667 and f_irr > 0.1):\n",
    "        return \"DISKIRR\"\n",
    "    elif (f_sph < 0.667 and f_disk < 0.667 and f_irr > 0.1):\n",
    "        return \"IRR\"\n",
    "    else:\n",
    "        return \"NONE\""
   ]
  },
  {
   "cell_type": "code",
   "execution_count": null,
   "metadata": {
    "id": "09I9L_kVcQI2"
   },
   "outputs": [],
   "source": [
    "galaxies_fs = {}\n",
    "files = []\n",
    "\n",
    "for i in range(len(gals)):\n",
    "    morph = get_morphology_Huertas15(f_sph[i], f_disk[i], f_irr[i])\n",
    "\n",
    "    filename = morph + \"_\" + gals[i] + \"_\" + field[i] + \".png\"\n",
    "    targets = [f_sph[i],f_disk[i],f_irr[i],f_ps[i],f_unc[i]]\n",
    "    \n",
    "    # Add a new item to the dictionary\n",
    "    galaxies_fs.update({ filename : targets })"
   ]
  },
  {
   "cell_type": "markdown",
   "metadata": {
    "id": "s3CvkMsPdaAX"
   },
   "source": [
    "## 3. My functions"
   ]
  },
  {
   "cell_type": "markdown",
   "metadata": {
    "id": "xy85Ghqadcjo"
   },
   "source": [
    "### 3.1. Getters"
   ]
  },
  {
   "cell_type": "code",
   "execution_count": null,
   "metadata": {
    "id": "apaVOg0Hfygm"
   },
   "outputs": [],
   "source": [
    "import os\n",
    "\n",
    "def get_y(source):\n",
    "    '''\n",
    "    Pre: file = source/morphology_id_field.png\n",
    "    '''\n",
    "    path = str(source)\n",
    "    filename = os.path.basename(path)\n",
    "    return galaxies_fs.get(filename) # Search in the dictionary"
   ]
  },
  {
   "cell_type": "markdown",
   "metadata": {
    "id": "_efHPVgPdelp"
   },
   "source": [
    "### 3.2. Tfms"
   ]
  },
  {
   "cell_type": "code",
   "execution_count": null,
   "metadata": {
    "id": "K-OVYhCqgEvM"
   },
   "outputs": [],
   "source": [
    "def random_rotation(x):\n",
    "    '''\n",
    "    Return a float tensor equal in size to batch with random\n",
    "    rotations multiples of 90. \n",
    "    \n",
    "    x: full batch tensor\n",
    "    '''\n",
    "    size = x.size(0)\n",
    "    result = torch.zeros(([size]), dtype=float, device='cuda')\n",
    "    \n",
    "    for i in range(size):\n",
    "        degree = torch.rand(1)\n",
    "        if (degree < 0.25):\n",
    "            result[i] = 0.0\n",
    "        elif (degree < 0.5):\n",
    "            result[i] = 90.0\n",
    "        elif (degree < 0.75):\n",
    "            result[i] = 180.0\n",
    "        else:\n",
    "            result[i] = 270.0\n",
    "    \n",
    "    return result"
   ]
  },
  {
   "cell_type": "code",
   "execution_count": null,
   "metadata": {
    "id": "AKpQ0LgcgIoq"
   },
   "outputs": [],
   "source": [
    "class GaussianNoise(Transform):\n",
    "    order = 100 #after normalize\n",
    "    \n",
    "    def encodes(self, x:TensorImage):\n",
    "        noise = torch.normal(\n",
    "            mean=0.0, \n",
    "            std=0.005,\n",
    "            size=x.shape,\n",
    "            device='cuda'\n",
    "        )\n",
    "        return x + noise"
   ]
  },
  {
   "cell_type": "markdown",
   "metadata": {
    "id": "BNe-74MSdgjX"
   },
   "source": [
    "### 3.3.Loss and metrics"
   ]
  },
  {
   "cell_type": "code",
   "execution_count": null,
   "metadata": {
    "id": "4a5IQFrP7L8M"
   },
   "outputs": [],
   "source": [
    "def rmse_label_smoothing(preds, targs):\n",
    "    targs += (torch.rand(targs.size(1),device='cuda')-0.5)*0.1\n",
    "    return ((preds-targs)**2).mean().sqrt()  # rmse"
   ]
  },
  {
   "cell_type": "markdown",
   "metadata": {
    "id": "gPvxyx_oxPEO"
   },
   "source": [
    "### 3.4. Others"
   ]
  },
  {
   "cell_type": "code",
   "execution_count": null,
   "metadata": {
    "id": "MvsRuXaKxQG-"
   },
   "outputs": [],
   "source": [
    "def datasets_info(dls):\n",
    "    for ds_i, ds in enumerate([dls.train_ds, dls.valid_ds]):\n",
    "        \n",
    "        ds_name = \"TRAIN\" if ds_i == 0 else \"VALID\"\n",
    "        print(f\"Dataset: {ds_name}\")\n",
    "        print(ds)\n",
    "        \n",
    "        print(\"\")"
   ]
  },
  {
   "cell_type": "markdown",
   "metadata": {
    "id": "KMRw2JD7KSOm"
   },
   "source": [
    "## 4. Experiment"
   ]
  },
  {
   "cell_type": "markdown",
   "metadata": {
    "id": "BKT7CT2D8kpS"
   },
   "source": [
    "### 4.1. DataBlock and DataLoaders"
   ]
  },
  {
   "cell_type": "code",
   "execution_count": null,
   "metadata": {
    "id": "pXPMZomifU8p"
   },
   "outputs": [],
   "source": [
    "tfms = []\n",
    "\n",
    "blocks = DataBlock(\n",
    "    blocks=(ImageBlock, RegressionBlock),\n",
    "    get_items=get_image_files,\n",
    "    get_y=get_y,\n",
    "    splitter=RandomSplitter(valid_pct=0.2, seed=42),\n",
    "    batch_tfms=tfms\n",
    ")\n",
    "\n",
    "dls = blocks.dataloaders(source=png_files_path)"
   ]
  },
  {
   "cell_type": "markdown",
   "metadata": {
    "id": "EqdkFL5QrNOi"
   },
   "source": [
    "### 4.2. Show details"
   ]
  },
  {
   "cell_type": "code",
   "execution_count": null,
   "metadata": {
    "colab": {
     "base_uri": "https://localhost:8080/"
    },
    "executionInfo": {
     "elapsed": 2055,
     "status": "ok",
     "timestamp": 1617560204362,
     "user": {
      "displayName": "Jorge TFG",
      "photoUrl": "",
      "userId": "04695241847063352703"
     },
     "user_tz": -120
    },
    "id": "44ck4nlvvxUL",
    "outputId": "beb63b23-06a5-443f-ea93-3a27e875d2ef"
   },
   "outputs": [
    {
     "data": {
      "text/plain": [
       "FlattenedLoss of MSELoss()"
      ]
     },
     "execution_count": 14,
     "metadata": {
      "tags": []
     },
     "output_type": "execute_result"
    }
   ],
   "source": [
    "dls.loss_func"
   ]
  },
  {
   "cell_type": "code",
   "execution_count": null,
   "metadata": {
    "colab": {
     "base_uri": "https://localhost:8080/"
    },
    "executionInfo": {
     "elapsed": 719,
     "status": "ok",
     "timestamp": 1617560204706,
     "user": {
      "displayName": "Jorge TFG",
      "photoUrl": "",
      "userId": "04695241847063352703"
     },
     "user_tz": -120
    },
    "id": "i0gUX_gArK5d",
    "outputId": "837e5c16-e72b-40b3-c2e9-5ff5cfe1cca7"
   },
   "outputs": [
    {
     "name": "stdout",
     "output_type": "stream",
     "text": [
      "Dataset: TRAIN\n",
      "(#2768) [(PILImage mode=RGB size=200x200, tensor([0.9600, 0.3600, 0.0000, 0.0900, 0.0000])),(PILImage mode=RGB size=200x200, tensor([0.9300, 0.0000, 0.0000, 0.3500, 0.0000])),(PILImage mode=RGB size=200x200, tensor([0.3200, 1.0000, 0.0300, 0.0000, 0.0000])),(PILImage mode=RGB size=200x200, tensor([0.1200, 0.7400, 0.6400, 0.0000, 0.0000])),(PILImage mode=RGB size=200x200, tensor([0.0000, 0.8200, 0.5100, 0.0400, 0.0000])),(PILImage mode=RGB size=200x200, tensor([0.9100, 0.5200, 0.0000, 0.0200, 0.0000])),(PILImage mode=RGB size=200x200, tensor([0.8300, 0.8100, 0.3100, 0.0000, 0.0000])),(PILImage mode=RGB size=200x200, tensor([0.2600, 1.0000, 0.0700, 0.0000, 0.0000])),(PILImage mode=RGB size=200x200, tensor([0.6000, 1.0000, 0.0100, 0.0000, 0.0000])),(PILImage mode=RGB size=200x200, tensor([0.9700, 0.8700, 0.0000, 0.0100, 0.0000]))...]\n",
      "\n",
      "Dataset: VALID\n",
      "(#692) [(PILImage mode=RGB size=200x200, tensor([1.0000, 0.1700, 0.0000, 0.0000, 0.0000])),(PILImage mode=RGB size=200x200, tensor([0.5700, 1.0000, 0.0500, 0.0000, 0.0000])),(PILImage mode=RGB size=200x200, tensor([0.4400, 1.0000, 0.0000, 0.0200, 0.0000])),(PILImage mode=RGB size=200x200, tensor([0.4300, 1.0000, 0.0000, 0.0000, 0.0000])),(PILImage mode=RGB size=200x200, tensor([0.9600, 0.0000, 0.0000, 0.1300, 0.0200])),(PILImage mode=RGB size=200x200, tensor([0.9500, 0.1200, 0.0000, 0.1700, 0.0000])),(PILImage mode=RGB size=200x200, tensor([0.9100, 0.5500, 0.0000, 0.0400, 0.0000])),(PILImage mode=RGB size=200x200, tensor([0.5700, 1.0000, 0.0000, 0.0600, 0.0000])),(PILImage mode=RGB size=200x200, tensor([0.8500, 0.7000, 0.0000, 0.0300, 0.0000])),(PILImage mode=RGB size=200x200, tensor([0.4100, 1.0000, 0.0000, 0.0300, 0.0000]))...]\n",
      "\n"
     ]
    }
   ],
   "source": [
    "datasets_info(dls)"
   ]
  },
  {
   "cell_type": "code",
   "execution_count": null,
   "metadata": {
    "colab": {
     "base_uri": "https://localhost:8080/",
     "height": 590
    },
    "executionInfo": {
     "elapsed": 1148,
     "status": "ok",
     "timestamp": 1617560206367,
     "user": {
      "displayName": "Jorge TFG",
      "photoUrl": "",
      "userId": "04695241847063352703"
     },
     "user_tz": -120
    },
    "id": "Oy4oSKk6rMrC",
    "outputId": "6a188379-ed88-400f-9fdc-d9b9ae80d434"
   },
   "outputs": [
    {
     "data": {
      "image/png": "[encoded data removed]",
      "text/plain": [
       "<Figure size 720x720 with 2 Axes>"
      ]
     },
     "metadata": {
      "needs_background": "light",
      "tags": []
     },
     "output_type": "display_data"
    }
   ],
   "source": [
    "dls.show_batch(nrows=2, ncols=1, figsize = (10, 10))"
   ]
  },
  {
   "cell_type": "markdown",
   "metadata": {
    "id": "my12IFUHrRbl"
   },
   "source": [
    "### 4.3. Learner and Training"
   ]
  },
  {
   "cell_type": "code",
   "execution_count": null,
   "metadata": {
    "colab": {
     "base_uri": "https://localhost:8080/",
     "height": 1000
    },
    "executionInfo": {
     "elapsed": 674873,
     "status": "ok",
     "timestamp": 1617560884378,
     "user": {
      "displayName": "Jorge TFG",
      "photoUrl": "",
      "userId": "04695241847063352703"
     },
     "user_tz": -120
    },
    "id": "nhQxDA1j8rkm",
    "outputId": "c9aba26d-cbcf-4b8b-8e81-cb6dcac62bab"
   },
   "outputs": [
    {
     "data": {
      "text/html": [
       "<table border=\"1\" class=\"dataframe\">\n",
       "  <thead>\n",
       "    <tr style=\"text-align: left;\">\n",
       "      <th>epoch</th>\n",
       "      <th>train_loss</th>\n",
       "      <th>valid_loss</th>\n",
       "      <th>_rmse</th>\n",
       "      <th>time</th>\n",
       "    </tr>\n",
       "  </thead>\n",
       "  <tbody>\n",
       "    <tr>\n",
       "      <td>0</td>\n",
       "      <td>1.749746</td>\n",
       "      <td>0.938664</td>\n",
       "      <td>0.939811</td>\n",
       "      <td>00:16</td>\n",
       "    </tr>\n",
       "  </tbody>\n",
       "</table>"
      ],
      "text/plain": [
       "<IPython.core.display.HTML object>"
      ]
     },
     "metadata": {
      "tags": []
     },
     "output_type": "display_data"
    },
    {
     "data": {
      "image/png": "[encoded data removed]",
      "text/plain": [
       "<Figure size 432x288 with 1 Axes>"
      ]
     },
     "metadata": {
      "tags": []
     },
     "output_type": "display_data"
    },
    {
     "data": {
      "text/html": [
       "<table border=\"1\" class=\"dataframe\">\n",
       "  <thead>\n",
       "    <tr style=\"text-align: left;\">\n",
       "      <th>epoch</th>\n",
       "      <th>train_loss</th>\n",
       "      <th>valid_loss</th>\n",
       "      <th>_rmse</th>\n",
       "      <th>time</th>\n",
       "    </tr>\n",
       "  </thead>\n",
       "  <tbody>\n",
       "    <tr>\n",
       "      <td>0</td>\n",
       "      <td>1.382015</td>\n",
       "      <td>0.599918</td>\n",
       "      <td>0.600350</td>\n",
       "      <td>00:22</td>\n",
       "    </tr>\n",
       "    <tr>\n",
       "      <td>1</td>\n",
       "      <td>1.293186</td>\n",
       "      <td>0.501062</td>\n",
       "      <td>0.501499</td>\n",
       "      <td>00:21</td>\n",
       "    </tr>\n",
       "    <tr>\n",
       "      <td>2</td>\n",
       "      <td>1.209450</td>\n",
       "      <td>0.474560</td>\n",
       "      <td>0.475535</td>\n",
       "      <td>00:21</td>\n",
       "    </tr>\n",
       "    <tr>\n",
       "      <td>3</td>\n",
       "      <td>1.100496</td>\n",
       "      <td>0.409322</td>\n",
       "      <td>0.409651</td>\n",
       "      <td>00:21</td>\n",
       "    </tr>\n",
       "    <tr>\n",
       "      <td>4</td>\n",
       "      <td>0.972700</td>\n",
       "      <td>0.327982</td>\n",
       "      <td>0.328445</td>\n",
       "      <td>00:21</td>\n",
       "    </tr>\n",
       "    <tr>\n",
       "      <td>5</td>\n",
       "      <td>0.835982</td>\n",
       "      <td>0.296730</td>\n",
       "      <td>0.296891</td>\n",
       "      <td>00:21</td>\n",
       "    </tr>\n",
       "    <tr>\n",
       "      <td>6</td>\n",
       "      <td>0.692732</td>\n",
       "      <td>0.249803</td>\n",
       "      <td>0.249951</td>\n",
       "      <td>00:21</td>\n",
       "    </tr>\n",
       "    <tr>\n",
       "      <td>7</td>\n",
       "      <td>0.557794</td>\n",
       "      <td>0.223228</td>\n",
       "      <td>0.223646</td>\n",
       "      <td>00:21</td>\n",
       "    </tr>\n",
       "    <tr>\n",
       "      <td>8</td>\n",
       "      <td>0.441504</td>\n",
       "      <td>0.216406</td>\n",
       "      <td>0.216748</td>\n",
       "      <td>00:21</td>\n",
       "    </tr>\n",
       "    <tr>\n",
       "      <td>9</td>\n",
       "      <td>0.344944</td>\n",
       "      <td>0.179209</td>\n",
       "      <td>0.179485</td>\n",
       "      <td>00:21</td>\n",
       "    </tr>\n",
       "    <tr>\n",
       "      <td>10</td>\n",
       "      <td>0.279173</td>\n",
       "      <td>0.177319</td>\n",
       "      <td>0.177591</td>\n",
       "      <td>00:21</td>\n",
       "    </tr>\n",
       "    <tr>\n",
       "      <td>11</td>\n",
       "      <td>0.239005</td>\n",
       "      <td>0.164884</td>\n",
       "      <td>0.165069</td>\n",
       "      <td>00:21</td>\n",
       "    </tr>\n",
       "    <tr>\n",
       "      <td>12</td>\n",
       "      <td>0.214120</td>\n",
       "      <td>0.179850</td>\n",
       "      <td>0.180080</td>\n",
       "      <td>00:21</td>\n",
       "    </tr>\n",
       "    <tr>\n",
       "      <td>13</td>\n",
       "      <td>0.197841</td>\n",
       "      <td>0.162385</td>\n",
       "      <td>0.163059</td>\n",
       "      <td>00:21</td>\n",
       "    </tr>\n",
       "    <tr>\n",
       "      <td>14</td>\n",
       "      <td>0.183006</td>\n",
       "      <td>0.180859</td>\n",
       "      <td>0.181385</td>\n",
       "      <td>00:21</td>\n",
       "    </tr>\n",
       "    <tr>\n",
       "      <td>15</td>\n",
       "      <td>0.173041</td>\n",
       "      <td>0.158107</td>\n",
       "      <td>0.158453</td>\n",
       "      <td>00:21</td>\n",
       "    </tr>\n",
       "    <tr>\n",
       "      <td>16</td>\n",
       "      <td>0.164624</td>\n",
       "      <td>0.157429</td>\n",
       "      <td>0.157949</td>\n",
       "      <td>00:21</td>\n",
       "    </tr>\n",
       "    <tr>\n",
       "      <td>17</td>\n",
       "      <td>0.157940</td>\n",
       "      <td>0.168843</td>\n",
       "      <td>0.169611</td>\n",
       "      <td>00:21</td>\n",
       "    </tr>\n",
       "    <tr>\n",
       "      <td>18</td>\n",
       "      <td>0.151873</td>\n",
       "      <td>0.156604</td>\n",
       "      <td>0.157069</td>\n",
       "      <td>00:21</td>\n",
       "    </tr>\n",
       "    <tr>\n",
       "      <td>19</td>\n",
       "      <td>0.143633</td>\n",
       "      <td>0.151974</td>\n",
       "      <td>0.152596</td>\n",
       "      <td>00:21</td>\n",
       "    </tr>\n",
       "    <tr>\n",
       "      <td>20</td>\n",
       "      <td>0.137088</td>\n",
       "      <td>0.150215</td>\n",
       "      <td>0.150562</td>\n",
       "      <td>00:21</td>\n",
       "    </tr>\n",
       "    <tr>\n",
       "      <td>21</td>\n",
       "      <td>0.131086</td>\n",
       "      <td>0.151381</td>\n",
       "      <td>0.151998</td>\n",
       "      <td>00:21</td>\n",
       "    </tr>\n",
       "    <tr>\n",
       "      <td>22</td>\n",
       "      <td>0.124057</td>\n",
       "      <td>0.145403</td>\n",
       "      <td>0.145808</td>\n",
       "      <td>00:21</td>\n",
       "    </tr>\n",
       "    <tr>\n",
       "      <td>23</td>\n",
       "      <td>0.118447</td>\n",
       "      <td>0.147495</td>\n",
       "      <td>0.148043</td>\n",
       "      <td>00:21</td>\n",
       "    </tr>\n",
       "    <tr>\n",
       "      <td>24</td>\n",
       "      <td>0.115637</td>\n",
       "      <td>0.147170</td>\n",
       "      <td>0.147710</td>\n",
       "      <td>00:21</td>\n",
       "    </tr>\n",
       "    <tr>\n",
       "      <td>25</td>\n",
       "      <td>0.111522</td>\n",
       "      <td>0.144544</td>\n",
       "      <td>0.145057</td>\n",
       "      <td>00:21</td>\n",
       "    </tr>\n",
       "    <tr>\n",
       "      <td>26</td>\n",
       "      <td>0.109866</td>\n",
       "      <td>0.146412</td>\n",
       "      <td>0.146920</td>\n",
       "      <td>00:21</td>\n",
       "    </tr>\n",
       "    <tr>\n",
       "      <td>27</td>\n",
       "      <td>0.105894</td>\n",
       "      <td>0.144661</td>\n",
       "      <td>0.145274</td>\n",
       "      <td>00:21</td>\n",
       "    </tr>\n",
       "    <tr>\n",
       "      <td>28</td>\n",
       "      <td>0.105481</td>\n",
       "      <td>0.144573</td>\n",
       "      <td>0.145155</td>\n",
       "      <td>00:21</td>\n",
       "    </tr>\n",
       "    <tr>\n",
       "      <td>29</td>\n",
       "      <td>0.104269</td>\n",
       "      <td>0.144274</td>\n",
       "      <td>0.144898</td>\n",
       "      <td>00:21</td>\n",
       "    </tr>\n",
       "  </tbody>\n",
       "</table>"
      ],
      "text/plain": [
       "<IPython.core.display.HTML object>"
      ]
     },
     "metadata": {
      "tags": []
     },
     "output_type": "display_data"
    },
    {
     "data": {
      "image/png": "[encoded data removed]",
      "text/plain": [
       "<Figure size 432x288 with 1 Axes>"
      ]
     },
     "metadata": {
      "tags": []
     },
     "output_type": "display_data"
    }
   ],
   "source": [
    "learn = cnn_learner(\n",
    "    dls, resnet34, \n",
    "    metrics = rmse,\n",
    "    loss_func=rmse_label_smoothing, \n",
    "    cbs = [\n",
    "        ShowGraphCallback(),\n",
    "        CSVLogger(fname=csv_results_path, append=true)\n",
    "    ]\n",
    ")\n",
    "\n",
    "learn.fine_tune(epochs=30)"
   ]
  }
 ],
 "metadata": {
  "accelerator": "GPU",
  "colab": {
   "authorship_tag": "ABX9TyNKL0XFCbNlVJ9z66eDDE4m",
   "collapsed_sections": [],
   "mount_file_id": "1X9sBY9JUIUcAwNU2kshcNkqE7hLAAmpN",
   "name": "Regression-1.3_LossFunc-RMSE_label_smoothing.ipynb",
   "provenance": []
  },
  "kernelspec": {
   "display_name": "Python 3",
   "language": "python",
   "name": "python3"
  },
  "language_info": {
   "codemirror_mode": {
    "name": "ipython",
    "version": 3
   },
   "file_extension": ".py",
   "mimetype": "text/x-python",
   "name": "python",
   "nbconvert_exporter": "python",
   "pygments_lexer": "ipython3",
   "version": "3.8.5"
  }
 },
 "nbformat": 4,
 "nbformat_minor": 1
}
