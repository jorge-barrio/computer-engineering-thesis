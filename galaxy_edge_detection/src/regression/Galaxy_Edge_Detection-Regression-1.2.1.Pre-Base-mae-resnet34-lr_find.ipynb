{
 "cells": [
  {
   "cell_type": "markdown",
   "metadata": {
    "id": "C-S12v4B00pG"
   },
   "source": [
    "# Regression for galaxy borders detection #Pre 1.2 (lr_find)\n",
    "---\n",
    "<!--\n",
    "| Sesion | Fecha de realizacion | Author |\n",
    "|:-------|:--------------------:|:-------------------|\n",
    "|   3ª   |      09/12/2020      | Jorge Barrio Conde |\n",
    "-->"
   ]
  },
  {
   "cell_type": "markdown",
   "metadata": {
    "id": "Qde7QxMiKPU3"
   },
   "source": [
    "**Author**: Jorge Barrio Conde"
   ]
  },
  {
   "cell_type": "markdown",
   "metadata": {
    "id": "pJ9RAjBBKSTN"
   },
   "source": [
    "## Version\n",
    "\n",
    "**Version**: (PRE) 1.2. Base system with a specific learning rate (Search learning rate)\n",
    "\n",
    "**Loss function**: MAE Label Smoothing\n",
    "\n",
    "**Metric**: MAE (Mean-Absolute Error)\n",
    "\n",
    "**Neural Network**: ResNet34\n",
    "\n",
    "**Epochs**: 50\n",
    "\n",
    "**Learning rate**: searching...\n",
    "\n",
    "**Tfms**: `[]`"
   ]
  },
  {
   "cell_type": "markdown",
   "metadata": {
    "id": "ObJywxvRAIpp"
   },
   "source": [
    "## 0. Install fastai and fastbook"
   ]
  },
  {
   "cell_type": "markdown",
   "metadata": {
    "id": "EgGxccAxAzYf"
   },
   "source": [
    "-U: Upgrade all specified packages to the newest available version"
   ]
  },
  {
   "cell_type": "code",
   "execution_count": 1,
   "metadata": {
    "colab": {
     "base_uri": "https://localhost:8080/"
    },
    "executionInfo": {
     "elapsed": 113087,
     "status": "ok",
     "timestamp": 1622477966744,
     "user": {
      "displayName": "Jorge Barcon",
      "photoUrl": "https://lh3.googleusercontent.com/a-/AOh14Gjn7K9ciWjzRzRR5Q3PgW_zARmGFHoD2ez53pSY=s64",
      "userId": "17389391317333665318"
     },
     "user_tz": -120
    },
    "id": "1iubKSEWAMWH",
    "outputId": "1a5be73d-372a-43f2-f66c-455141b003bd"
   },
   "outputs": [
    {
     "name": "stdout",
     "output_type": "stream",
     "text": [
      "\u001b[K     |████████████████████████████████| 727kB 10.0MB/s \n",
      "\u001b[K     |████████████████████████████████| 204kB 20.8MB/s \n",
      "\u001b[K     |████████████████████████████████| 1.2MB 21.1MB/s \n",
      "\u001b[K     |████████████████████████████████| 51kB 6.0MB/s \n",
      "\u001b[K     |████████████████████████████████| 61kB 8.9MB/s \n",
      "\u001b[K     |████████████████████████████████| 61kB 9.1MB/s \n",
      "\u001b[?25hMounted at /content/gdrive\n"
     ]
    }
   ],
   "source": [
    "!pip install -Uqq fastbook\n",
    "import fastbook\n",
    "fastbook.setup_book()"
   ]
  },
  {
   "cell_type": "markdown",
   "metadata": {
    "id": "gIkKx2ccBXyZ"
   },
   "source": [
    "## 1. Imports and paths"
   ]
  },
  {
   "cell_type": "code",
   "execution_count": 2,
   "metadata": {
    "executionInfo": {
     "elapsed": 19,
     "status": "ok",
     "timestamp": 1622477966746,
     "user": {
      "displayName": "Jorge Barcon",
      "photoUrl": "https://lh3.googleusercontent.com/a-/AOh14Gjn7K9ciWjzRzRR5Q3PgW_zARmGFHoD2ez53pSY=s64",
      "userId": "17389391317333665318"
     },
     "user_tz": -120
    },
    "id": "Hip4IGTSBgf1"
   },
   "outputs": [],
   "source": [
    "import fastai\n",
    "import fastbook\n",
    "from fastai.vision.all import *\n",
    "from fastbook import *"
   ]
  },
  {
   "cell_type": "code",
   "execution_count": 3,
   "metadata": {
    "colab": {
     "base_uri": "https://localhost:8080/"
    },
    "executionInfo": {
     "elapsed": 15,
     "status": "ok",
     "timestamp": 1622477966747,
     "user": {
      "displayName": "Jorge Barcon",
      "photoUrl": "https://lh3.googleusercontent.com/a-/AOh14Gjn7K9ciWjzRzRR5Q3PgW_zARmGFHoD2ez53pSY=s64",
      "userId": "17389391317333665318"
     },
     "user_tz": -120
    },
    "id": "aV6W_HHGCH3A",
    "outputId": "2c7ef86f-eea2-44a7-c74f-52703fb92c16"
   },
   "outputs": [
    {
     "name": "stdout",
     "output_type": "stream",
     "text": [
      "fastai version: 2.3.1\n",
      "fastbook version: 0.0.16\n"
     ]
    }
   ],
   "source": [
    "print(f\"fastai version: {fastai.__version__}\")\n",
    "print(f\"fastbook version: {fastbook.__version__}\")"
   ]
  },
  {
   "cell_type": "markdown",
   "metadata": {},
   "source": [
    "**Paths**"
   ]
  },
  {
   "cell_type": "code",
   "execution_count": null,
   "metadata": {},
   "outputs": [],
   "source": [
    "# Specify project path\n",
    "project_root_path = \"/content/gdrive/MyDrive/galaxy_edge_detection/\""
   ]
  },
  {
   "cell_type": "code",
   "execution_count": 4,
   "metadata": {
    "executionInfo": {
     "elapsed": 9,
     "status": "ok",
     "timestamp": 1622477966747,
     "user": {
      "displayName": "Jorge Barcon",
      "photoUrl": "https://lh3.googleusercontent.com/a-/AOh14Gjn7K9ciWjzRzRR5Q3PgW_zARmGFHoD2ez53pSY=s64",
      "userId": "17389391317333665318"
     },
     "user_tz": -120
    },
    "id": "-4qeblEJB_T5"
   },
   "outputs": [],
   "source": [
    "dataset_dir_path = project_root_path + \"dataset/\"\n",
    "png_folder_path = dataset_dir_path + \"rgb_200x200_low/\""
   ]
  },
  {
   "cell_type": "markdown",
   "metadata": {
    "id": "4ZbkB5K70fiK"
   },
   "source": [
    "## 2. Read dataset"
   ]
  },
  {
   "cell_type": "markdown",
   "metadata": {
    "id": "G-nzbphNNHqu"
   },
   "source": [
    "### 2.1. Read CSV"
   ]
  },
  {
   "cell_type": "markdown",
   "metadata": {
    "id": "Of2JzbuBD6H7"
   },
   "source": [
    "**`gal_id`**: filename (`morphology_galaxyId_candelsField`)\n",
    "\n",
    "**`q`**: axis ratio → `minor axis` = `major axis` $*$ `q`\n",
    "\n",
    "**`pa`**: angle between the major axis and the 'y' axis → range $[-90, 90]$\n",
    "\n",
    "**`r_edge`**: major axis\n",
    "\n",
    "**`xcH`**: center of galaxy (x axis)\n",
    "\n",
    "**`ycH`**: center of galaxy (y axis)"
   ]
  },
  {
   "cell_type": "code",
   "execution_count": 5,
   "metadata": {
    "colab": {
     "base_uri": "https://localhost:8080/",
     "height": 0
    },
    "executionInfo": {
     "elapsed": 733,
     "status": "ok",
     "timestamp": 1622477967472,
     "user": {
      "displayName": "Jorge Barcon",
      "photoUrl": "https://lh3.googleusercontent.com/a-/AOh14Gjn7K9ciWjzRzRR5Q3PgW_zARmGFHoD2ez53pSY=s64",
      "userId": "17389391317333665318"
     },
     "user_tz": -120
    },
    "id": "6As10DzyyU-o",
    "outputId": "7ed59287-a756-49cf-95b2-f8b395d564d3"
   },
   "outputs": [
    {
     "data": {
      "text/html": [
       "<div>\n",
       "<style scoped>\n",
       "    .dataframe tbody tr th:only-of-type {\n",
       "        vertical-align: middle;\n",
       "    }\n",
       "\n",
       "    .dataframe tbody tr th {\n",
       "        vertical-align: top;\n",
       "    }\n",
       "\n",
       "    .dataframe thead th {\n",
       "        text-align: right;\n",
       "    }\n",
       "</style>\n",
       "<table border=\"1\" class=\"dataframe\">\n",
       "  <thead>\n",
       "    <tr style=\"text-align: right;\">\n",
       "      <th></th>\n",
       "      <th>gal_id</th>\n",
       "      <th>q</th>\n",
       "      <th>pa</th>\n",
       "      <th>r_edge</th>\n",
       "      <th>xcH</th>\n",
       "      <th>ycH</th>\n",
       "    </tr>\n",
       "  </thead>\n",
       "  <tbody>\n",
       "    <tr>\n",
       "      <th>0</th>\n",
       "      <td>DISK_270_cosmos</td>\n",
       "      <td>0.2390</td>\n",
       "      <td>79.8405</td>\n",
       "      <td>31.859297</td>\n",
       "      <td>100.0</td>\n",
       "      <td>100.0</td>\n",
       "    </tr>\n",
       "    <tr>\n",
       "      <th>1</th>\n",
       "      <td>DISK_283_cosmos</td>\n",
       "      <td>0.2843</td>\n",
       "      <td>76.1063</td>\n",
       "      <td>17.744582</td>\n",
       "      <td>100.0</td>\n",
       "      <td>100.0</td>\n",
       "    </tr>\n",
       "    <tr>\n",
       "      <th>2</th>\n",
       "      <td>DISKSPH_886_cosmos</td>\n",
       "      <td>0.3449</td>\n",
       "      <td>-62.4947</td>\n",
       "      <td>35.659255</td>\n",
       "      <td>100.0</td>\n",
       "      <td>100.0</td>\n",
       "    </tr>\n",
       "    <tr>\n",
       "      <th>3</th>\n",
       "      <td>DISKSPH_944_cosmos</td>\n",
       "      <td>0.2000</td>\n",
       "      <td>14.0000</td>\n",
       "      <td>45.867763</td>\n",
       "      <td>100.0</td>\n",
       "      <td>100.0</td>\n",
       "    </tr>\n",
       "    <tr>\n",
       "      <th>4</th>\n",
       "      <td>DISK_1022_cosmos</td>\n",
       "      <td>0.6500</td>\n",
       "      <td>-70.0000</td>\n",
       "      <td>41.548721</td>\n",
       "      <td>100.0</td>\n",
       "      <td>100.0</td>\n",
       "    </tr>\n",
       "  </tbody>\n",
       "</table>\n",
       "</div>"
      ],
      "text/plain": [
       "               gal_id       q       pa     r_edge    xcH    ycH\n",
       "0     DISK_270_cosmos  0.2390  79.8405  31.859297  100.0  100.0\n",
       "1     DISK_283_cosmos  0.2843  76.1063  17.744582  100.0  100.0\n",
       "2  DISKSPH_886_cosmos  0.3449 -62.4947  35.659255  100.0  100.0\n",
       "3  DISKSPH_944_cosmos  0.2000  14.0000  45.867763  100.0  100.0\n",
       "4    DISK_1022_cosmos  0.6500 -70.0000  41.548721  100.0  100.0"
      ]
     },
     "execution_count": 5,
     "metadata": {
      "tags": []
     },
     "output_type": "execute_result"
    }
   ],
   "source": [
    "df = pd.read_csv(dataset_dir_path+\"benja_ppales_params_low_v4.csv\")\n",
    "df.head()"
   ]
  },
  {
   "cell_type": "code",
   "execution_count": 6,
   "metadata": {
    "colab": {
     "base_uri": "https://localhost:8080/"
    },
    "executionInfo": {
     "elapsed": 79,
     "status": "ok",
     "timestamp": 1622477967474,
     "user": {
      "displayName": "Jorge Barcon",
      "photoUrl": "https://lh3.googleusercontent.com/a-/AOh14Gjn7K9ciWjzRzRR5Q3PgW_zARmGFHoD2ez53pSY=s64",
      "userId": "17389391317333665318"
     },
     "user_tz": -120
    },
    "id": "ddEe7sLJUWy9",
    "outputId": "50845c07-481d-41ed-da5c-a656dc0d0349"
   },
   "outputs": [
    {
     "name": "stdout",
     "output_type": "stream",
     "text": [
      "Dataset size: 1053\n"
     ]
    }
   ],
   "source": [
    "print(f\"Dataset size: {len(df)}\")"
   ]
  },
  {
   "cell_type": "markdown",
   "metadata": {
    "id": "-5nVB1ttjpnS"
   },
   "source": [
    "### 2.2. Process columns\n",
    "Calculate minor axis and major axis"
   ]
  },
  {
   "cell_type": "code",
   "execution_count": 7,
   "metadata": {
    "colab": {
     "base_uri": "https://localhost:8080/",
     "height": 204
    },
    "executionInfo": {
     "elapsed": 71,
     "status": "ok",
     "timestamp": 1622477967476,
     "user": {
      "displayName": "Jorge Barcon",
      "photoUrl": "https://lh3.googleusercontent.com/a-/AOh14Gjn7K9ciWjzRzRR5Q3PgW_zARmGFHoD2ez53pSY=s64",
      "userId": "17389391317333665318"
     },
     "user_tz": -120
    },
    "id": "SuBt8CrQhnQd",
    "outputId": "b0baf2c4-e4ac-46a4-84e8-f0078b0cc1a1"
   },
   "outputs": [
    {
     "data": {
      "text/html": [
       "<div>\n",
       "<style scoped>\n",
       "    .dataframe tbody tr th:only-of-type {\n",
       "        vertical-align: middle;\n",
       "    }\n",
       "\n",
       "    .dataframe tbody tr th {\n",
       "        vertical-align: top;\n",
       "    }\n",
       "\n",
       "    .dataframe thead th {\n",
       "        text-align: right;\n",
       "    }\n",
       "</style>\n",
       "<table border=\"1\" class=\"dataframe\">\n",
       "  <thead>\n",
       "    <tr style=\"text-align: right;\">\n",
       "      <th></th>\n",
       "      <th>gal_id</th>\n",
       "      <th>q</th>\n",
       "      <th>pa</th>\n",
       "      <th>r_edge</th>\n",
       "      <th>xcH</th>\n",
       "      <th>ycH</th>\n",
       "      <th>majorAxis</th>\n",
       "      <th>minorAxis</th>\n",
       "    </tr>\n",
       "  </thead>\n",
       "  <tbody>\n",
       "    <tr>\n",
       "      <th>0</th>\n",
       "      <td>DISK_270_cosmos</td>\n",
       "      <td>0.2390</td>\n",
       "      <td>79.8405</td>\n",
       "      <td>31.859297</td>\n",
       "      <td>100.0</td>\n",
       "      <td>100.0</td>\n",
       "      <td>31.859297</td>\n",
       "      <td>7.614372</td>\n",
       "    </tr>\n",
       "    <tr>\n",
       "      <th>1</th>\n",
       "      <td>DISK_283_cosmos</td>\n",
       "      <td>0.2843</td>\n",
       "      <td>76.1063</td>\n",
       "      <td>17.744582</td>\n",
       "      <td>100.0</td>\n",
       "      <td>100.0</td>\n",
       "      <td>17.744582</td>\n",
       "      <td>5.044785</td>\n",
       "    </tr>\n",
       "    <tr>\n",
       "      <th>2</th>\n",
       "      <td>DISKSPH_886_cosmos</td>\n",
       "      <td>0.3449</td>\n",
       "      <td>-62.4947</td>\n",
       "      <td>35.659255</td>\n",
       "      <td>100.0</td>\n",
       "      <td>100.0</td>\n",
       "      <td>35.659255</td>\n",
       "      <td>12.298877</td>\n",
       "    </tr>\n",
       "    <tr>\n",
       "      <th>3</th>\n",
       "      <td>DISKSPH_944_cosmos</td>\n",
       "      <td>0.2000</td>\n",
       "      <td>14.0000</td>\n",
       "      <td>45.867763</td>\n",
       "      <td>100.0</td>\n",
       "      <td>100.0</td>\n",
       "      <td>45.867763</td>\n",
       "      <td>9.173553</td>\n",
       "    </tr>\n",
       "    <tr>\n",
       "      <th>4</th>\n",
       "      <td>DISK_1022_cosmos</td>\n",
       "      <td>0.6500</td>\n",
       "      <td>-70.0000</td>\n",
       "      <td>41.548721</td>\n",
       "      <td>100.0</td>\n",
       "      <td>100.0</td>\n",
       "      <td>41.548721</td>\n",
       "      <td>27.006669</td>\n",
       "    </tr>\n",
       "  </tbody>\n",
       "</table>\n",
       "</div>"
      ],
      "text/plain": [
       "               gal_id       q       pa     r_edge    xcH    ycH  majorAxis  \\\n",
       "0     DISK_270_cosmos  0.2390  79.8405  31.859297  100.0  100.0  31.859297   \n",
       "1     DISK_283_cosmos  0.2843  76.1063  17.744582  100.0  100.0  17.744582   \n",
       "2  DISKSPH_886_cosmos  0.3449 -62.4947  35.659255  100.0  100.0  35.659255   \n",
       "3  DISKSPH_944_cosmos  0.2000  14.0000  45.867763  100.0  100.0  45.867763   \n",
       "4    DISK_1022_cosmos  0.6500 -70.0000  41.548721  100.0  100.0  41.548721   \n",
       "\n",
       "   minorAxis  \n",
       "0   7.614372  \n",
       "1   5.044785  \n",
       "2  12.298877  \n",
       "3   9.173553  \n",
       "4  27.006669  "
      ]
     },
     "execution_count": 7,
     "metadata": {
      "tags": []
     },
     "output_type": "execute_result"
    }
   ],
   "source": [
    "df[\"majorAxis\"] = df[\"r_edge\"]\n",
    "df[\"minorAxis\"] = df[\"majorAxis\"] * df[\"q\"]\n",
    "df.head()"
   ]
  },
  {
   "cell_type": "markdown",
   "metadata": {
    "id": "PjlJib9-0lKw"
   },
   "source": [
    "## 3. My functions"
   ]
  },
  {
   "cell_type": "markdown",
   "metadata": {
    "id": "BuhblPKy0oSY"
   },
   "source": [
    "### 3.1. Getters"
   ]
  },
  {
   "cell_type": "code",
   "execution_count": 8,
   "metadata": {
    "executionInfo": {
     "elapsed": 68,
     "status": "ok",
     "timestamp": 1622477967478,
     "user": {
      "displayName": "Jorge Barcon",
      "photoUrl": "https://lh3.googleusercontent.com/a-/AOh14Gjn7K9ciWjzRzRR5Q3PgW_zARmGFHoD2ez53pSY=s64",
      "userId": "17389391317333665318"
     },
     "user_tz": -120
    },
    "id": "J_tCli180EC-"
   },
   "outputs": [],
   "source": [
    "def get_x(r):\n",
    "    return png_folder_path + r['gal_id'] + '.png'"
   ]
  },
  {
   "cell_type": "code",
   "execution_count": 9,
   "metadata": {
    "executionInfo": {
     "elapsed": 66,
     "status": "ok",
     "timestamp": 1622477967479,
     "user": {
      "displayName": "Jorge Barcon",
      "photoUrl": "https://lh3.googleusercontent.com/a-/AOh14Gjn7K9ciWjzRzRR5Q3PgW_zARmGFHoD2ez53pSY=s64",
      "userId": "17389391317333665318"
     },
     "user_tz": -120
    },
    "id": "VeqIUmhH0Lmu"
   },
   "outputs": [],
   "source": [
    "def get_y(r):\n",
    "    return (tensor([r['pa'], r['xcH'], r['ycH'], r['majorAxis'], r['minorAxis']]))"
   ]
  },
  {
   "cell_type": "markdown",
   "metadata": {
    "id": "noNmL9YTjMc7"
   },
   "source": [
    "### 3.2. Tfms"
   ]
  },
  {
   "cell_type": "markdown",
   "metadata": {
    "id": "Mckmv7KaxQwv"
   },
   "source": [
    "### 3.3. Loss function"
   ]
  },
  {
   "cell_type": "markdown",
   "metadata": {
    "id": "GeJEAK2VzrWy"
   },
   "source": [
    "Label smoothing: 10% maximum"
   ]
  },
  {
   "cell_type": "code",
   "execution_count": 10,
   "metadata": {
    "executionInfo": {
     "elapsed": 65,
     "status": "ok",
     "timestamp": 1622477967481,
     "user": {
      "displayName": "Jorge Barcon",
      "photoUrl": "https://lh3.googleusercontent.com/a-/AOh14Gjn7K9ciWjzRzRR5Q3PgW_zARmGFHoD2ez53pSY=s64",
      "userId": "17389391317333665318"
     },
     "user_tz": -120
    },
    "id": "ZjYiivt4xQA4"
   },
   "outputs": [],
   "source": [
    "def mae_label_smoothing(preds, targs):\n",
    "    targs += (torch.rand(targs.size(1),device='cuda')-0.5)*0.1\n",
    "    return (preds-targs).abs().mean()"
   ]
  },
  {
   "cell_type": "markdown",
   "metadata": {
    "id": "Dm9EBcke9YsP"
   },
   "source": [
    "### 3.4. Show edge"
   ]
  },
  {
   "cell_type": "markdown",
   "metadata": {
    "id": "_Uou07XUOHfj"
   },
   "source": [
    "#### 3.4.1. Imports"
   ]
  },
  {
   "cell_type": "code",
   "execution_count": 11,
   "metadata": {
    "executionInfo": {
     "elapsed": 58,
     "status": "ok",
     "timestamp": 1622477967483,
     "user": {
      "displayName": "Jorge Barcon",
      "photoUrl": "https://lh3.googleusercontent.com/a-/AOh14Gjn7K9ciWjzRzRR5Q3PgW_zARmGFHoD2ez53pSY=s64",
      "userId": "17389391317333665318"
     },
     "user_tz": -120
    },
    "id": "H4lKQ1S5M-FR"
   },
   "outputs": [],
   "source": [
    "import matplotlib.pyplot as plt\n",
    "from matplotlib.patches import Ellipse"
   ]
  },
  {
   "cell_type": "markdown",
   "metadata": {
    "id": "kd6eW-FSOUKb"
   },
   "source": [
    "#### 3.4.2. Simple show_edge"
   ]
  },
  {
   "cell_type": "code",
   "execution_count": 12,
   "metadata": {
    "executionInfo": {
     "elapsed": 56,
     "status": "ok",
     "timestamp": 1622477967484,
     "user": {
      "displayName": "Jorge Barcon",
      "photoUrl": "https://lh3.googleusercontent.com/a-/AOh14Gjn7K9ciWjzRzRR5Q3PgW_zARmGFHoD2ez53pSY=s64",
      "userId": "17389391317333665318"
     },
     "user_tz": -120
    },
    "id": "50Amahz2NAl3"
   },
   "outputs": [],
   "source": [
    "def show_edge(x, y):\n",
    "    img = x\n",
    "    fig, ax = plt.subplots()\n",
    "    ax.imshow(img)\n",
    "\n",
    "    ax.add_patch(\n",
    "        Ellipse(\n",
    "            (y[1], y[2]), \n",
    "            width=y[4]*2, \n",
    "            height=y[3]*2,\n",
    "            angle=180-y[0],\n",
    "            edgecolor='red',\n",
    "            facecolor='none',\n",
    "            linewidth=2\n",
    "        )\n",
    "    )\n",
    "\n",
    "    values = f\"\"\"\n",
    "PA = {y[0]:.3f}\n",
    "xcH = {y[1]:.3f}\n",
    "ycH = {y[2]:.3f}\n",
    "Major axis = {y[3]:.3f}\n",
    "Minor axis = {y[4]:.3f}\n",
    "\"\"\"\n",
    "    ax.set_xlabel(values) "
   ]
  },
  {
   "cell_type": "markdown",
   "metadata": {
    "id": "LAUnNL7IQTqA"
   },
   "source": [
    "#### 3.4.3. Show edge results"
   ]
  },
  {
   "cell_type": "code",
   "execution_count": 13,
   "metadata": {
    "executionInfo": {
     "elapsed": 54,
     "status": "ok",
     "timestamp": 1622477967485,
     "user": {
      "displayName": "Jorge Barcon",
      "photoUrl": "https://lh3.googleusercontent.com/a-/AOh14Gjn7K9ciWjzRzRR5Q3PgW_zARmGFHoD2ez53pSY=s64",
      "userId": "17389391317333665318"
     },
     "user_tz": -120
    },
    "id": "FgEqzA409mfE"
   },
   "outputs": [],
   "source": [
    "def show_edge_result(x, targs, preds, metric):\n",
    "\n",
    "    img = x\n",
    "\n",
    "    fig = plt.figure(figsize=(8, 5))\n",
    "    fig.suptitle(f\"MAE = {metric:4f}\", fontsize=16, y=0.95)\n",
    "\n",
    "    # Targets\n",
    "    ax = fig.add_subplot(1, 2, 1)\n",
    "    imgplot = plt.imshow(img)\n",
    "    ax.set_title(\"Targets\")\n",
    "\n",
    "    ax.add_patch(\n",
    "        Ellipse(\n",
    "            (targs[1], targs[2]), \n",
    "            width=targs[4]*2, \n",
    "            height=targs[3]*2,\n",
    "            angle=180-targs[0],\n",
    "            edgecolor='red',\n",
    "            facecolor='none',\n",
    "            linewidth=2\n",
    "        )\n",
    "    )\n",
    "\n",
    "    values = f\"\"\"\n",
    "PA = {targs[0]:.3f}\n",
    "xcH = {targs[1]:.3f}\n",
    "ycH = {targs[2]:.3f}\n",
    "Major axis = {targs[3]:.3f}\n",
    "Minor axis = {targs[4]:.3f}\n",
    "\"\"\"\n",
    "    ax.set_xlabel(values)\n",
    "\n",
    "    # Predictions\n",
    "    ax = fig.add_subplot(1, 2, 2)\n",
    "    imgplot = plt.imshow(img)\n",
    "    ax.set_title(\"Predictions\")\n",
    "    \n",
    "    ax.add_patch(\n",
    "        Ellipse(\n",
    "            (preds[1], preds[2]), \n",
    "            width=preds[4]*2, \n",
    "            height=preds[3]*2,\n",
    "            angle=180-preds[0],\n",
    "            edgecolor='red',\n",
    "            facecolor='none',\n",
    "            linewidth=2\n",
    "        )\n",
    "    )   \n",
    "\n",
    "    values = f\"\"\"\n",
    "PA = {preds[0]:.3f} (\\u03B5 = {targs[0]-preds[0]:.2f})\n",
    "xcH = {preds[1]:.3f} (\\u03B5 = {targs[1]-preds[1]:.2f})\n",
    "ycH = {preds[2]:.3f} (\\u03B5 = {targs[2]-preds[2]:.2f})\n",
    "Major axis = {preds[3]:.3f} (\\u03B5 = {targs[3]-preds[3]:.2f})\n",
    "Minor axis = {preds[4]:.3f} (\\u03B5 = {targs[4]-preds[4]:.2f})\n",
    "\"\"\"\n",
    "    ax.set_xlabel(values) "
   ]
  },
  {
   "cell_type": "code",
   "execution_count": 14,
   "metadata": {
    "executionInfo": {
     "elapsed": 54,
     "status": "ok",
     "timestamp": 1622477967487,
     "user": {
      "displayName": "Jorge Barcon",
      "photoUrl": "https://lh3.googleusercontent.com/a-/AOh14Gjn7K9ciWjzRzRR5Q3PgW_zARmGFHoD2ez53pSY=s64",
      "userId": "17389391317333665318"
     },
     "user_tz": -120
    },
    "id": "x5pO3-fUQkjD"
   },
   "outputs": [],
   "source": [
    "def get_metrics_dict(preds, targs):\n",
    "    metrics = {}\n",
    "    for i in range(len(preds)):\n",
    "        metrics.update({ i : mae(preds[i], targs[i]) })\n",
    "    return metrics"
   ]
  },
  {
   "cell_type": "code",
   "execution_count": 15,
   "metadata": {
    "executionInfo": {
     "elapsed": 52,
     "status": "ok",
     "timestamp": 1622477967489,
     "user": {
      "displayName": "Jorge Barcon",
      "photoUrl": "https://lh3.googleusercontent.com/a-/AOh14Gjn7K9ciWjzRzRR5Q3PgW_zARmGFHoD2ez53pSY=s64",
      "userId": "17389391317333665318"
     },
     "user_tz": -120
    },
    "id": "bskdne6SP4m8"
   },
   "outputs": [],
   "source": [
    "def show_edge_results(learn, dls, n_samples=5, random=True):\n",
    "    preds,targs = learn.get_preds()\n",
    "\n",
    "    metrics = get_metrics_dict(preds, targs)\n",
    "\n",
    "    xs = []\n",
    "    for i in range(len(targs)):\n",
    "        xs.append(dls.valid_ds[i][0])\n",
    "\n",
    "    if random:\n",
    "        indexes = torch.randint(0, len(preds), (n_samples,))\n",
    "    else:\n",
    "        indexes = [num for num in range(n_samples)]\n",
    "\n",
    "    for i in range(n_samples):\n",
    "        index = indexes[i]\n",
    "        show_edge_result(xs[index], targs[index], preds[index], metrics[index]) "
   ]
  },
  {
   "cell_type": "code",
   "execution_count": 16,
   "metadata": {
    "executionInfo": {
     "elapsed": 51,
     "status": "ok",
     "timestamp": 1622477967491,
     "user": {
      "displayName": "Jorge Barcon",
      "photoUrl": "https://lh3.googleusercontent.com/a-/AOh14Gjn7K9ciWjzRzRR5Q3PgW_zARmGFHoD2ez53pSY=s64",
      "userId": "17389391317333665318"
     },
     "user_tz": -120
    },
    "id": "v4JplQqaP8oM"
   },
   "outputs": [],
   "source": [
    "def show_edge_best_results(learn, dls, n_samples=5):\n",
    "    preds,targs = learn.get_preds()\n",
    "\n",
    "    metrics = get_metrics_dict(preds, targs)\n",
    "\n",
    "    metrics = dict(sorted(metrics.items(), key=operator.itemgetter(1)))\n",
    "\n",
    "    keys = list(metrics.keys())\n",
    "    values=metrics.values()\n",
    "\n",
    "    xs = []\n",
    "    for i in range(len(targs)):\n",
    "        xs.append(dls.valid_ds[i][0])\n",
    "\n",
    "    indexes = [keys[i] for i in range(n_samples)]\n",
    "    \n",
    "    for i in range(n_samples):\n",
    "        index = indexes[i]\n",
    "        show_edge_result(xs[index], targs[index], preds[index], metrics[index])"
   ]
  },
  {
   "cell_type": "code",
   "execution_count": 17,
   "metadata": {
    "executionInfo": {
     "elapsed": 50,
     "status": "ok",
     "timestamp": 1622477967492,
     "user": {
      "displayName": "Jorge Barcon",
      "photoUrl": "https://lh3.googleusercontent.com/a-/AOh14Gjn7K9ciWjzRzRR5Q3PgW_zARmGFHoD2ez53pSY=s64",
      "userId": "17389391317333665318"
     },
     "user_tz": -120
    },
    "id": "D-bSQU8HP6Ut"
   },
   "outputs": [],
   "source": [
    "def show_edge_worst_results(learn, dls, n_samples=5):\n",
    "    preds,targs = learn.get_preds()\n",
    "\n",
    "    metrics = get_metrics_dict(preds, targs)\n",
    "\n",
    "    metrics = dict(sorted(metrics.items(), key=operator.itemgetter(1), reverse=True))\n",
    "\n",
    "    keys = list(metrics.keys())\n",
    "\n",
    "    xs = []\n",
    "    for i in range(len(targs)):\n",
    "        xs.append(dls.valid_ds[i][0])\n",
    "\n",
    "    indexes = [keys[i] for i in range(n_samples)]\n",
    "    \n",
    "    for i in range(n_samples):\n",
    "        index = indexes[i]\n",
    "        show_edge_result(xs[index], targs[index], preds[index], metrics[index])"
   ]
  },
  {
   "cell_type": "markdown",
   "metadata": {
    "id": "zv_He3SvXP6j"
   },
   "source": [
    "### 3.5. Show results stats"
   ]
  },
  {
   "cell_type": "code",
   "execution_count": 18,
   "metadata": {
    "executionInfo": {
     "elapsed": 340,
     "status": "ok",
     "timestamp": 1622477967785,
     "user": {
      "displayName": "Jorge Barcon",
      "photoUrl": "https://lh3.googleusercontent.com/a-/AOh14Gjn7K9ciWjzRzRR5Q3PgW_zARmGFHoD2ez53pSY=s64",
      "userId": "17389391317333665318"
     },
     "user_tz": -120
    },
    "id": "1g9hDbj5XRJ6"
   },
   "outputs": [],
   "source": [
    "def show_results_stats(learn, dls):\n",
    "    preds,targs = learn.get_preds()\n",
    "    error = (preds-targs).abs()\n",
    "\n",
    "    if error.mean() != mae(preds,targs):\n",
    "        print(\"MAE error\")\n",
    "\n",
    "    print(f\"MAE = {error.mean():.4f}\")\n",
    "    print(\"\\nMean error for each value:\")\n",
    "    print(f\"- PA = {error[0].mean():.4f}\")\n",
    "    print(f\"- xcH = {error[1].mean():.4f}\")\n",
    "    print(f\"- ycH = {error[2].mean():.4f}\")\n",
    "    print(f\"- majorAxis = {error[3].mean():.4f}\")\n",
    "    print(f\"- minorAxis = {error[4].mean():.4f}\")"
   ]
  },
  {
   "cell_type": "markdown",
   "metadata": {
    "id": "z5ROnc8W0s1_"
   },
   "source": [
    "## 4. DataBlock"
   ]
  },
  {
   "cell_type": "code",
   "execution_count": 19,
   "metadata": {
    "executionInfo": {
     "elapsed": 34,
     "status": "ok",
     "timestamp": 1622477967788,
     "user": {
      "displayName": "Jorge Barcon",
      "photoUrl": "https://lh3.googleusercontent.com/a-/AOh14Gjn7K9ciWjzRzRR5Q3PgW_zARmGFHoD2ez53pSY=s64",
      "userId": "17389391317333665318"
     },
     "user_tz": -120
    },
    "id": "rsH3C5lczSUE"
   },
   "outputs": [],
   "source": [
    "tfms = []\n",
    "\n",
    "dblock = DataBlock(\n",
    "    blocks=(ImageBlock, RegressionBlock),\n",
    "    splitter=RandomSplitter(valid_pct=0.2, seed=42),\n",
    "    get_x=get_x,\n",
    "    get_y=get_y,\n",
    "    batch_tfms=tfms\n",
    ")"
   ]
  },
  {
   "cell_type": "markdown",
   "metadata": {
    "id": "ftk9Z2tnRDJG"
   },
   "source": [
    "### 4.1. DataBlock information"
   ]
  },
  {
   "cell_type": "code",
   "execution_count": 20,
   "metadata": {
    "colab": {
     "base_uri": "https://localhost:8080/"
    },
    "executionInfo": {
     "elapsed": 33,
     "status": "ok",
     "timestamp": 1622477967790,
     "user": {
      "displayName": "Jorge Barcon",
      "photoUrl": "https://lh3.googleusercontent.com/a-/AOh14Gjn7K9ciWjzRzRR5Q3PgW_zARmGFHoD2ez53pSY=s64",
      "userId": "17389391317333665318"
     },
     "user_tz": -120
    },
    "id": "6it3xd9jZonC",
    "outputId": "64be0705-052b-4b44-df90-9f91e99a0ad5"
   },
   "outputs": [
    {
     "data": {
      "text/plain": [
       "(#1) [ToTensor:\n",
       "encodes: (PILMask,object) -> encodes\n",
       "(PILBase,object) -> encodes\n",
       "decodes: ]"
      ]
     },
     "execution_count": 20,
     "metadata": {
      "tags": []
     },
     "output_type": "execute_result"
    }
   ],
   "source": [
    "dblock.item_tfms"
   ]
  },
  {
   "cell_type": "code",
   "execution_count": 21,
   "metadata": {
    "colab": {
     "base_uri": "https://localhost:8080/"
    },
    "executionInfo": {
     "elapsed": 30,
     "status": "ok",
     "timestamp": 1622477967792,
     "user": {
      "displayName": "Jorge Barcon",
      "photoUrl": "https://lh3.googleusercontent.com/a-/AOh14Gjn7K9ciWjzRzRR5Q3PgW_zARmGFHoD2ez53pSY=s64",
      "userId": "17389391317333665318"
     },
     "user_tz": -120
    },
    "id": "a1Y6dlonZqFP",
    "outputId": "6f378051-5340-42b9-c1d0-b1241053881e"
   },
   "outputs": [
    {
     "data": {
      "text/plain": [
       "(#1) [IntToFloatTensor -- {'div': 255.0, 'div_mask': 1}:\n",
       "encodes: (TensorImage,object) -> encodes\n",
       "(TensorMask,object) -> encodes\n",
       "decodes: (TensorImage,object) -> decodes\n",
       "]"
      ]
     },
     "execution_count": 21,
     "metadata": {
      "tags": []
     },
     "output_type": "execute_result"
    }
   ],
   "source": [
    "dblock.batch_tfms"
   ]
  },
  {
   "cell_type": "code",
   "execution_count": 22,
   "metadata": {
    "colab": {
     "base_uri": "https://localhost:8080/"
    },
    "executionInfo": {
     "elapsed": 17229,
     "status": "ok",
     "timestamp": 1622477984995,
     "user": {
      "displayName": "Jorge Barcon",
      "photoUrl": "https://lh3.googleusercontent.com/a-/AOh14Gjn7K9ciWjzRzRR5Q3PgW_zARmGFHoD2ez53pSY=s64",
      "userId": "17389391317333665318"
     },
     "user_tz": -120
    },
    "id": "5fsKkU8kzNP3",
    "outputId": "2614d2fd-8b02-4559-95f7-d2112d88774e"
   },
   "outputs": [
    {
     "name": "stdout",
     "output_type": "stream",
     "text": [
      "Setting-up type transforms pipelines\n",
      "Collecting items from                   gal_id       q       pa     r_edge    xcH    ycH  majorAxis  \\\n",
      "0        DISK_270_cosmos  0.2390  79.8405  31.859297  100.0  100.0  31.859297   \n",
      "1        DISK_283_cosmos  0.2843  76.1063  17.744582  100.0  100.0  17.744582   \n",
      "2     DISKSPH_886_cosmos  0.3449 -62.4947  35.659255  100.0  100.0  35.659255   \n",
      "3     DISKSPH_944_cosmos  0.2000  14.0000  45.867763  100.0  100.0  45.867763   \n",
      "4       DISK_1022_cosmos  0.6500 -70.0000  41.548721  100.0  100.0  41.548721   \n",
      "...                  ...     ...      ...        ...    ...    ...        ...   \n",
      "1048      DISK_25056_uds  0.4662  59.4264  16.619979  100.0  100.0  16.619979   \n",
      "1049   DISKSPH_25162_uds  0.4621  41.4502  28.001938  100.0  100.0  28.001938   \n",
      "1050      DISK_25681_uds  0.3775 -57.5325  24.391211  100.0  100.0  24.391211   \n",
      "1051   DISKSPH_25951_uds  0.4872 -46.4380  26.001467  100.0  100.0  26.001467   \n",
      "1052   DISKSPH_26782_uds  0.4600  40.0000  32.588515  100.0  100.0  32.588515   \n",
      "\n",
      "      minorAxis  \n",
      "0      7.614372  \n",
      "1      5.044785  \n",
      "2     12.298877  \n",
      "3      9.173553  \n",
      "4     27.006669  \n",
      "...         ...  \n",
      "1048   7.748234  \n",
      "1049  12.939696  \n",
      "1050   9.207682  \n",
      "1051  12.667915  \n",
      "1052  14.990717  \n",
      "\n",
      "[1053 rows x 8 columns]\n",
      "Found 1053 items\n",
      "2 datasets of sizes 843,210\n",
      "Setting up Pipeline: get_x -> PILBase.create\n",
      "Setting up Pipeline: get_y -> RegressionSetup -- {'c': None}\n",
      "\n",
      "Building one sample\n",
      "  Pipeline: get_x -> PILBase.create\n",
      "    starting from\n",
      "      gal_id       DISKSPH_7401_egs\n",
      "q                      0.6413\n",
      "pa                   -87.7194\n",
      "r_edge                21.7299\n",
      "xcH                       100\n",
      "ycH                       100\n",
      "majorAxis             21.7299\n",
      "minorAxis             13.9354\n",
      "Name: 297, dtype: object\n",
      "    applying get_x gives\n",
      "      /content/gdrive/MyDrive/galaxy_edge_detection/dataset/rgb_200x200_low/DISKSPH_7401_egs.png\n",
      "    applying PILBase.create gives\n",
      "      PILImage mode=RGB size=200x200\n",
      "  Pipeline: get_y -> RegressionSetup -- {'c': None}\n",
      "    starting from\n",
      "      gal_id       DISKSPH_7401_egs\n",
      "q                      0.6413\n",
      "pa                   -87.7194\n",
      "r_edge                21.7299\n",
      "xcH                       100\n",
      "ycH                       100\n",
      "majorAxis             21.7299\n",
      "minorAxis             13.9354\n",
      "Name: 297, dtype: object\n",
      "    applying get_y gives\n",
      "      tensor([-87.7194, 100.0000, 100.0000,  21.7299,  13.9354])\n",
      "    applying RegressionSetup -- {'c': None} gives\n",
      "      tensor([-87.7194, 100.0000, 100.0000,  21.7299,  13.9354])\n",
      "\n",
      "Final sample: (PILImage mode=RGB size=200x200, tensor([-87.7194, 100.0000, 100.0000,  21.7299,  13.9354]))\n",
      "\n",
      "\n",
      "Collecting items from                   gal_id       q       pa     r_edge    xcH    ycH  majorAxis  \\\n",
      "0        DISK_270_cosmos  0.2390  79.8405  31.859297  100.0  100.0  31.859297   \n",
      "1        DISK_283_cosmos  0.2843  76.1063  17.744582  100.0  100.0  17.744582   \n",
      "2     DISKSPH_886_cosmos  0.3449 -62.4947  35.659255  100.0  100.0  35.659255   \n",
      "3     DISKSPH_944_cosmos  0.2000  14.0000  45.867763  100.0  100.0  45.867763   \n",
      "4       DISK_1022_cosmos  0.6500 -70.0000  41.548721  100.0  100.0  41.548721   \n",
      "...                  ...     ...      ...        ...    ...    ...        ...   \n",
      "1048      DISK_25056_uds  0.4662  59.4264  16.619979  100.0  100.0  16.619979   \n",
      "1049   DISKSPH_25162_uds  0.4621  41.4502  28.001938  100.0  100.0  28.001938   \n",
      "1050      DISK_25681_uds  0.3775 -57.5325  24.391211  100.0  100.0  24.391211   \n",
      "1051   DISKSPH_25951_uds  0.4872 -46.4380  26.001467  100.0  100.0  26.001467   \n",
      "1052   DISKSPH_26782_uds  0.4600  40.0000  32.588515  100.0  100.0  32.588515   \n",
      "\n",
      "      minorAxis  \n",
      "0      7.614372  \n",
      "1      5.044785  \n",
      "2     12.298877  \n",
      "3      9.173553  \n",
      "4     27.006669  \n",
      "...         ...  \n",
      "1048   7.748234  \n",
      "1049  12.939696  \n",
      "1050   9.207682  \n",
      "1051  12.667915  \n",
      "1052  14.990717  \n",
      "\n",
      "[1053 rows x 8 columns]\n",
      "Found 1053 items\n",
      "2 datasets of sizes 843,210\n",
      "Setting up Pipeline: get_x -> PILBase.create\n",
      "Setting up Pipeline: get_y -> RegressionSetup -- {'c': None}\n",
      "Setting up after_item: Pipeline: ToTensor\n",
      "Setting up before_batch: Pipeline: \n",
      "Setting up after_batch: Pipeline: IntToFloatTensor -- {'div': 255.0, 'div_mask': 1}\n",
      "\n",
      "Building one batch\n",
      "Applying item_tfms to the first sample:\n",
      "  Pipeline: ToTensor\n",
      "    starting from\n",
      "      (PILImage mode=RGB size=200x200, tensor([-87.7194, 100.0000, 100.0000,  21.7299,  13.9354]))\n",
      "    applying ToTensor gives\n",
      "      (TensorImage of size 3x200x200, tensor([-87.7194, 100.0000, 100.0000,  21.7299,  13.9354]))\n",
      "\n",
      "Adding the next 3 samples\n",
      "\n",
      "No before_batch transform to apply\n",
      "\n",
      "Collating items in a batch\n",
      "\n",
      "Applying batch_tfms to the batch built\n",
      "  Pipeline: IntToFloatTensor -- {'div': 255.0, 'div_mask': 1}\n",
      "    starting from\n",
      "      (TensorImage of size 4x3x200x200, Tensor of size 4x5)\n",
      "    applying IntToFloatTensor -- {'div': 255.0, 'div_mask': 1} gives\n",
      "      (TensorImage of size 4x3x200x200, Tensor of size 4x5)\n"
     ]
    }
   ],
   "source": [
    "dblock.summary(df)"
   ]
  },
  {
   "cell_type": "markdown",
   "metadata": {
    "id": "m4qTfBvv0xJR"
   },
   "source": [
    "## 5. DataLoaders"
   ]
  },
  {
   "cell_type": "code",
   "execution_count": 23,
   "metadata": {
    "executionInfo": {
     "elapsed": 14,
     "status": "ok",
     "timestamp": 1622477984996,
     "user": {
      "displayName": "Jorge Barcon",
      "photoUrl": "https://lh3.googleusercontent.com/a-/AOh14Gjn7K9ciWjzRzRR5Q3PgW_zARmGFHoD2ez53pSY=s64",
      "userId": "17389391317333665318"
     },
     "user_tz": -120
    },
    "id": "30Ppo5c3zEHq"
   },
   "outputs": [],
   "source": [
    "dls = dblock.dataloaders(df)"
   ]
  },
  {
   "cell_type": "code",
   "execution_count": 24,
   "metadata": {
    "colab": {
     "base_uri": "https://localhost:8080/",
     "height": 591
    },
    "executionInfo": {
     "elapsed": 19202,
     "status": "ok",
     "timestamp": 1622478004186,
     "user": {
      "displayName": "Jorge Barcon",
      "photoUrl": "https://lh3.googleusercontent.com/a-/AOh14Gjn7K9ciWjzRzRR5Q3PgW_zARmGFHoD2ez53pSY=s64",
      "userId": "17389391317333665318"
     },
     "user_tz": -120
    },
    "id": "ZP_FlmzrvY5D",
    "outputId": "2a98ae5a-5070-4dea-932d-47058ec32d8f"
   },
   "outputs": [
    {
     "data": {
      "image/png": "[encoded data removed]",
      "text/plain": [
       "<Figure size 720x720 with 4 Axes>"
      ]
     },
     "metadata": {
      "needs_background": "light",
      "tags": []
     },
     "output_type": "display_data"
    }
   ],
   "source": [
    "dls.show_batch(nrows=4, ncols=1, figsize = (10, 10))"
   ]
  },
  {
   "cell_type": "code",
   "execution_count": 25,
   "metadata": {
    "colab": {
     "base_uri": "https://localhost:8080/"
    },
    "executionInfo": {
     "elapsed": 1541,
     "status": "ok",
     "timestamp": 1622478005723,
     "user": {
      "displayName": "Jorge Barcon",
      "photoUrl": "https://lh3.googleusercontent.com/a-/AOh14Gjn7K9ciWjzRzRR5Q3PgW_zARmGFHoD2ez53pSY=s64",
      "userId": "17389391317333665318"
     },
     "user_tz": -120
    },
    "id": "VUbbMb5RvbwE",
    "outputId": "4985b157-27e8-4328-f39f-57871a2491c2"
   },
   "outputs": [
    {
     "data": {
      "text/plain": [
       "<bound method Datasets.show of (#843) [(PILImage mode=RGB size=200x200, tensor([-87.7194, 100.0000, 100.0000,  21.7299,  13.9354])),(PILImage mode=RGB size=200x200, tensor([-25.0000, 100.0000, 100.0000,  26.5325,  15.1235])),(PILImage mode=RGB size=200x200, tensor([-67.0359, 100.0000, 100.0000,  31.8361,  13.0528])),(PILImage mode=RGB size=200x200, tensor([-86.4701, 100.0000, 100.0000,  37.2940,  24.3940])),(PILImage mode=RGB size=200x200, tensor([-10.0705, 100.0000, 100.0000,  23.8540,  13.5944])),(PILImage mode=RGB size=200x200, tensor([ 82.2310, 100.0000, 100.0000,  32.5890,   7.0783])),(PILImage mode=RGB size=200x200, tensor([ -8.0000, 100.0000, 100.0000,  39.4076,   9.0637])),(PILImage mode=RGB size=200x200, tensor([ 73.6404, 100.0000, 100.0000,  53.7579,  14.8210])),(PILImage mode=RGB size=200x200, tensor([-26.4115, 100.0000, 100.0000,  39.5979,  34.7709])),(PILImage mode=RGB size=200x200, tensor([ 53.9306, 100.0000, 100.0000,  48.5267,  30.2564]))...]>"
      ]
     },
     "execution_count": 25,
     "metadata": {
      "tags": []
     },
     "output_type": "execute_result"
    }
   ],
   "source": [
    "dls.show"
   ]
  },
  {
   "cell_type": "code",
   "execution_count": 26,
   "metadata": {
    "colab": {
     "base_uri": "https://localhost:8080/"
    },
    "executionInfo": {
     "elapsed": 14,
     "status": "ok",
     "timestamp": 1622478005724,
     "user": {
      "displayName": "Jorge Barcon",
      "photoUrl": "https://lh3.googleusercontent.com/a-/AOh14Gjn7K9ciWjzRzRR5Q3PgW_zARmGFHoD2ez53pSY=s64",
      "userId": "17389391317333665318"
     },
     "user_tz": -120
    },
    "id": "Zze26UAWvdJp",
    "outputId": "4a9fd49f-d072-415b-c926-91e2bdc68d50"
   },
   "outputs": [
    {
     "data": {
      "text/plain": [
       "<bound method Datasets.show of (#843) [(PILImage mode=RGB size=200x200, tensor([-87.7194, 100.0000, 100.0000,  21.7299,  13.9354])),(PILImage mode=RGB size=200x200, tensor([-25.0000, 100.0000, 100.0000,  26.5325,  15.1235])),(PILImage mode=RGB size=200x200, tensor([-67.0359, 100.0000, 100.0000,  31.8361,  13.0528])),(PILImage mode=RGB size=200x200, tensor([-86.4701, 100.0000, 100.0000,  37.2940,  24.3940])),(PILImage mode=RGB size=200x200, tensor([-10.0705, 100.0000, 100.0000,  23.8540,  13.5944])),(PILImage mode=RGB size=200x200, tensor([ 82.2310, 100.0000, 100.0000,  32.5890,   7.0783])),(PILImage mode=RGB size=200x200, tensor([ -8.0000, 100.0000, 100.0000,  39.4076,   9.0637])),(PILImage mode=RGB size=200x200, tensor([ 73.6404, 100.0000, 100.0000,  53.7579,  14.8210])),(PILImage mode=RGB size=200x200, tensor([-26.4115, 100.0000, 100.0000,  39.5979,  34.7709])),(PILImage mode=RGB size=200x200, tensor([ 53.9306, 100.0000, 100.0000,  48.5267,  30.2564]))...]>"
      ]
     },
     "execution_count": 26,
     "metadata": {
      "tags": []
     },
     "output_type": "execute_result"
    }
   ],
   "source": [
    "dls.train.show"
   ]
  },
  {
   "cell_type": "code",
   "execution_count": 27,
   "metadata": {
    "colab": {
     "base_uri": "https://localhost:8080/"
    },
    "executionInfo": {
     "elapsed": 2826,
     "status": "ok",
     "timestamp": 1622478008542,
     "user": {
      "displayName": "Jorge Barcon",
      "photoUrl": "https://lh3.googleusercontent.com/a-/AOh14Gjn7K9ciWjzRzRR5Q3PgW_zARmGFHoD2ez53pSY=s64",
      "userId": "17389391317333665318"
     },
     "user_tz": -120
    },
    "id": "bpWZmOPCvenG",
    "outputId": "de27820e-9416-43bd-ce17-fc62a69602e1"
   },
   "outputs": [
    {
     "data": {
      "text/plain": [
       "<bound method Datasets.show of (#210) [(PILImage mode=RGB size=200x200, tensor([ 20.6562, 100.0000, 100.0000,  39.4185,  14.6164])),(PILImage mode=RGB size=200x200, tensor([-56.0357, 100.0000, 100.0000,  21.1577,   8.4737])),(PILImage mode=RGB size=200x200, tensor([ 13.4464, 100.0000, 100.0000,  24.1739,  13.4842])),(PILImage mode=RGB size=200x200, tensor([-65.4331, 100.0000, 100.0000,  33.7402,  15.3687])),(PILImage mode=RGB size=200x200, tensor([-25.3104, 100.0000, 100.0000,  35.5468,  13.7424])),(PILImage mode=RGB size=200x200, tensor([  8.0471, 100.0000, 100.0000,  16.1577,   7.5941])),(PILImage mode=RGB size=200x200, tensor([-10.0000, 100.0000, 100.0000, 104.6950,  94.2255])),(PILImage mode=RGB size=200x200, tensor([ 76.4813, 100.0000, 100.0000,  23.5149,  17.5610])),(PILImage mode=RGB size=200x200, tensor([-60.0000, 100.0000, 100.0000,  78.9057,  47.3434])),(PILImage mode=RGB size=200x200, tensor([-78.9120, 100.0000, 100.0000,  83.6974,  33.5878]))...]>"
      ]
     },
     "execution_count": 27,
     "metadata": {
      "tags": []
     },
     "output_type": "execute_result"
    }
   ],
   "source": [
    "dls.valid.show"
   ]
  },
  {
   "cell_type": "markdown",
   "metadata": {
    "id": "-ml_YEBFT48R"
   },
   "source": [
    "## 6. Learner"
   ]
  },
  {
   "cell_type": "code",
   "execution_count": 28,
   "metadata": {
    "colab": {
     "base_uri": "https://localhost:8080/"
    },
    "executionInfo": {
     "elapsed": 39,
     "status": "ok",
     "timestamp": 1622478008543,
     "user": {
      "displayName": "Jorge Barcon",
      "photoUrl": "https://lh3.googleusercontent.com/a-/AOh14Gjn7K9ciWjzRzRR5Q3PgW_zARmGFHoD2ez53pSY=s64",
      "userId": "17389391317333665318"
     },
     "user_tz": -120
    },
    "id": "PcBe8PmYcPkp",
    "outputId": "f5f5afa5-0e04-45d7-9c1e-ef2e90233ed4"
   },
   "outputs": [
    {
     "data": {
      "text/plain": [
       "FlattenedLoss of MSELoss()"
      ]
     },
     "execution_count": 28,
     "metadata": {
      "tags": []
     },
     "output_type": "execute_result"
    }
   ],
   "source": [
    "dls.loss_func"
   ]
  },
  {
   "cell_type": "code",
   "execution_count": 29,
   "metadata": {
    "colab": {
     "base_uri": "https://localhost:8080/"
    },
    "executionInfo": {
     "elapsed": 29,
     "status": "ok",
     "timestamp": 1622478008543,
     "user": {
      "displayName": "Jorge Barcon",
      "photoUrl": "https://lh3.googleusercontent.com/a-/AOh14Gjn7K9ciWjzRzRR5Q3PgW_zARmGFHoD2ez53pSY=s64",
      "userId": "17389391317333665318"
     },
     "user_tz": -120
    },
    "id": "JZ6YM1Ysvrt4",
    "outputId": "52755e04-999d-4e62-afa5-407b8b8befbd"
   },
   "outputs": [
    {
     "data": {
      "text/plain": [
       "{'cut': -2,\n",
       " 'split': <function fastai.vision.learner._resnet_split>,\n",
       " 'stats': ([0.485, 0.456, 0.406], [0.229, 0.224, 0.225])}"
      ]
     },
     "execution_count": 29,
     "metadata": {
      "tags": []
     },
     "output_type": "execute_result"
    }
   ],
   "source": [
    "model_meta[resnet34]"
   ]
  },
  {
   "cell_type": "markdown",
   "metadata": {
    "id": "CdcxTNU6OcIx"
   },
   "source": [
    "### 6.1. Create Learner"
   ]
  },
  {
   "cell_type": "code",
   "execution_count": 30,
   "metadata": {
    "colab": {
     "base_uri": "https://localhost:8080/",
     "height": 83,
     "referenced_widgets": [
      "23540816a0b5442291d6bf378c39af99",
      "d069583058874b3484169318d4e179ac",
      "ade5dd9a3e624ece90340b00bba51b0d",
      "df4594006723456fb07184a6fcbb6f47",
      "92d9d74c859b4a4ab858570b822b0b74",
      "4eff8cb7adde4b2299e91ae25cb96d2f",
      "c8b6cd01fd0e4d54b06d30c13b7ab1c3",
      "a3a0b3b1f59742ddacb45c41495ef646"
     ]
    },
    "executionInfo": {
     "elapsed": 1425,
     "status": "ok",
     "timestamp": 1622478009945,
     "user": {
      "displayName": "Jorge Barcon",
      "photoUrl": "https://lh3.googleusercontent.com/a-/AOh14Gjn7K9ciWjzRzRR5Q3PgW_zARmGFHoD2ez53pSY=s64",
      "userId": "17389391317333665318"
     },
     "user_tz": -120
    },
    "id": "SAmKFjZuieeV",
    "outputId": "632c93fd-808c-4161-ce01-d909afc70536"
   },
   "outputs": [
    {
     "name": "stderr",
     "output_type": "stream",
     "text": [
      "Downloading: \"https://download.pytorch.org/models/resnet34-333f7ec4.pth\" to /root/.cache/torch/hub/checkpoints/resnet34-333f7ec4.pth\n"
     ]
    },
    {
     "data": {
      "application/vnd.jupyter.widget-view+json": {
       "model_id": "23540816a0b5442291d6bf378c39af99",
       "version_major": 2,
       "version_minor": 0
      },
      "text/plain": [
       "HBox(children=(FloatProgress(value=0.0, max=87306240.0), HTML(value='')))"
      ]
     },
     "metadata": {
      "tags": []
     },
     "output_type": "display_data"
    },
    {
     "name": "stdout",
     "output_type": "stream",
     "text": [
      "\n"
     ]
    }
   ],
   "source": [
    "learn = cnn_learner(\n",
    "    dls, resnet34, \n",
    "    metrics = mae,\n",
    "    loss_func=mae_label_smoothing,\n",
    "    cbs = [\n",
    "        ShowGraphCallback()\n",
    "    ]\n",
    ")"
   ]
  },
  {
   "cell_type": "code",
   "execution_count": 31,
   "metadata": {
    "colab": {
     "base_uri": "https://localhost:8080/",
     "height": 300
    },
    "executionInfo": {
     "elapsed": 142291,
     "status": "ok",
     "timestamp": 1622478152952,
     "user": {
      "displayName": "Jorge Barcon",
      "photoUrl": "https://lh3.googleusercontent.com/a-/AOh14Gjn7K9ciWjzRzRR5Q3PgW_zARmGFHoD2ez53pSY=s64",
      "userId": "17389391317333665318"
     },
     "user_tz": -120
    },
    "id": "dje6ru0lN7uJ",
    "outputId": "f2f883b7-8588-4073-8334-9bbc4785b3f7"
   },
   "outputs": [
    {
     "data": {
      "text/html": [],
      "text/plain": [
       "<IPython.core.display.HTML object>"
      ]
     },
     "metadata": {
      "tags": []
     },
     "output_type": "display_data"
    },
    {
     "name": "stdout",
     "output_type": "stream",
     "text": [
      "Minimum/10: 1.10e-01, steepest point: 8.32e-02\n"
     ]
    },
    {
     "data": {
      "image/png": "[encoded data removed]",
      "text/plain": [
       "<Figure size 432x288 with 1 Axes>"
      ]
     },
     "metadata": {
      "needs_background": "light",
      "tags": []
     },
     "output_type": "display_data"
    }
   ],
   "source": [
    "lr_min, lr_steep = learn.lr_find()\n",
    "print(f\"Minimum/10: {lr_min:.2e}, steepest point: {lr_steep:.2e}\")"
   ]
  }
 ],
 "metadata": {
  "accelerator": "GPU",
  "colab": {
   "collapsed_sections": [
    "gIkKx2ccBXyZ",
    "G-nzbphNNHqu",
    "-5nVB1ttjpnS",
    "PjlJib9-0lKw",
    "z5ROnc8W0s1_"
   ],
   "name": "Galaxy_Edge_Detection-Regression-1.2.Pre-Base-mae-resnet34-lr_find.ipynb",
   "provenance": [
    {
     "file_id": "1hA9TSl1Wer-RYzWOMAYEVNsll_wXL38S",
     "timestamp": 1619045274907
    }
   ]
  },
  "kernelspec": {
   "display_name": "Python 3",
   "language": "python",
   "name": "python3"
  },
  "language_info": {
   "codemirror_mode": {
    "name": "ipython",
    "version": 3
   },
   "file_extension": ".py",
   "mimetype": "text/x-python",
   "name": "python",
   "nbconvert_exporter": "python",
   "pygments_lexer": "ipython3",
   "version": "3.8.5"
  },
  "widgets": {
   "application/vnd.jupyter.widget-state+json": {
    "23540816a0b5442291d6bf378c39af99": {
     "model_module": "@jupyter-widgets/controls",
     "model_name": "HBoxModel",
     "state": {
      "_dom_classes": [],
      "_model_module": "@jupyter-widgets/controls",
      "_model_module_version": "1.5.0",
      "_model_name": "HBoxModel",
      "_view_count": null,
      "_view_module": "@jupyter-widgets/controls",
      "_view_module_version": "1.5.0",
      "_view_name": "HBoxView",
      "box_style": "",
      "children": [
       "IPY_MODEL_ade5dd9a3e624ece90340b00bba51b0d",
       "IPY_MODEL_df4594006723456fb07184a6fcbb6f47"
      ],
      "layout": "IPY_MODEL_d069583058874b3484169318d4e179ac"
     }
    },
    "4eff8cb7adde4b2299e91ae25cb96d2f": {
     "model_module": "@jupyter-widgets/base",
     "model_name": "LayoutModel",
     "state": {
      "_model_module": "@jupyter-widgets/base",
      "_model_module_version": "1.2.0",
      "_model_name": "LayoutModel",
      "_view_count": null,
      "_view_module": "@jupyter-widgets/base",
      "_view_module_version": "1.2.0",
      "_view_name": "LayoutView",
      "align_content": null,
      "align_items": null,
      "align_self": null,
      "border": null,
      "bottom": null,
      "display": null,
      "flex": null,
      "flex_flow": null,
      "grid_area": null,
      "grid_auto_columns": null,
      "grid_auto_flow": null,
      "grid_auto_rows": null,
      "grid_column": null,
      "grid_gap": null,
      "grid_row": null,
      "grid_template_areas": null,
      "grid_template_columns": null,
      "grid_template_rows": null,
      "height": null,
      "justify_content": null,
      "justify_items": null,
      "left": null,
      "margin": null,
      "max_height": null,
      "max_width": null,
      "min_height": null,
      "min_width": null,
      "object_fit": null,
      "object_position": null,
      "order": null,
      "overflow": null,
      "overflow_x": null,
      "overflow_y": null,
      "padding": null,
      "right": null,
      "top": null,
      "visibility": null,
      "width": null
     }
    },
    "92d9d74c859b4a4ab858570b822b0b74": {
     "model_module": "@jupyter-widgets/controls",
     "model_name": "ProgressStyleModel",
     "state": {
      "_model_module": "@jupyter-widgets/controls",
      "_model_module_version": "1.5.0",
      "_model_name": "ProgressStyleModel",
      "_view_count": null,
      "_view_module": "@jupyter-widgets/base",
      "_view_module_version": "1.2.0",
      "_view_name": "StyleView",
      "bar_color": null,
      "description_width": "initial"
     }
    },
    "a3a0b3b1f59742ddacb45c41495ef646": {
     "model_module": "@jupyter-widgets/base",
     "model_name": "LayoutModel",
     "state": {
      "_model_module": "@jupyter-widgets/base",
      "_model_module_version": "1.2.0",
      "_model_name": "LayoutModel",
      "_view_count": null,
      "_view_module": "@jupyter-widgets/base",
      "_view_module_version": "1.2.0",
      "_view_name": "LayoutView",
      "align_content": null,
      "align_items": null,
      "align_self": null,
      "border": null,
      "bottom": null,
      "display": null,
      "flex": null,
      "flex_flow": null,
      "grid_area": null,
      "grid_auto_columns": null,
      "grid_auto_flow": null,
      "grid_auto_rows": null,
      "grid_column": null,
      "grid_gap": null,
      "grid_row": null,
      "grid_template_areas": null,
      "grid_template_columns": null,
      "grid_template_rows": null,
      "height": null,
      "justify_content": null,
      "justify_items": null,
      "left": null,
      "margin": null,
      "max_height": null,
      "max_width": null,
      "min_height": null,
      "min_width": null,
      "object_fit": null,
      "object_position": null,
      "order": null,
      "overflow": null,
      "overflow_x": null,
      "overflow_y": null,
      "padding": null,
      "right": null,
      "top": null,
      "visibility": null,
      "width": null
     }
    },
    "ade5dd9a3e624ece90340b00bba51b0d": {
     "model_module": "@jupyter-widgets/controls",
     "model_name": "FloatProgressModel",
     "state": {
      "_dom_classes": [],
      "_model_module": "@jupyter-widgets/controls",
      "_model_module_version": "1.5.0",
      "_model_name": "FloatProgressModel",
      "_view_count": null,
      "_view_module": "@jupyter-widgets/controls",
      "_view_module_version": "1.5.0",
      "_view_name": "ProgressView",
      "bar_style": "success",
      "description": "100%",
      "description_tooltip": null,
      "layout": "IPY_MODEL_4eff8cb7adde4b2299e91ae25cb96d2f",
      "max": 87306240,
      "min": 0,
      "orientation": "horizontal",
      "style": "IPY_MODEL_92d9d74c859b4a4ab858570b822b0b74",
      "value": 87306240
     }
    },
    "c8b6cd01fd0e4d54b06d30c13b7ab1c3": {
     "model_module": "@jupyter-widgets/controls",
     "model_name": "DescriptionStyleModel",
     "state": {
      "_model_module": "@jupyter-widgets/controls",
      "_model_module_version": "1.5.0",
      "_model_name": "DescriptionStyleModel",
      "_view_count": null,
      "_view_module": "@jupyter-widgets/base",
      "_view_module_version": "1.2.0",
      "_view_name": "StyleView",
      "description_width": ""
     }
    },
    "d069583058874b3484169318d4e179ac": {
     "model_module": "@jupyter-widgets/base",
     "model_name": "LayoutModel",
     "state": {
      "_model_module": "@jupyter-widgets/base",
      "_model_module_version": "1.2.0",
      "_model_name": "LayoutModel",
      "_view_count": null,
      "_view_module": "@jupyter-widgets/base",
      "_view_module_version": "1.2.0",
      "_view_name": "LayoutView",
      "align_content": null,
      "align_items": null,
      "align_self": null,
      "border": null,
      "bottom": null,
      "display": null,
      "flex": null,
      "flex_flow": null,
      "grid_area": null,
      "grid_auto_columns": null,
      "grid_auto_flow": null,
      "grid_auto_rows": null,
      "grid_column": null,
      "grid_gap": null,
      "grid_row": null,
      "grid_template_areas": null,
      "grid_template_columns": null,
      "grid_template_rows": null,
      "height": null,
      "justify_content": null,
      "justify_items": null,
      "left": null,
      "margin": null,
      "max_height": null,
      "max_width": null,
      "min_height": null,
      "min_width": null,
      "object_fit": null,
      "object_position": null,
      "order": null,
      "overflow": null,
      "overflow_x": null,
      "overflow_y": null,
      "padding": null,
      "right": null,
      "top": null,
      "visibility": null,
      "width": null
     }
    },
    "df4594006723456fb07184a6fcbb6f47": {
     "model_module": "@jupyter-widgets/controls",
     "model_name": "HTMLModel",
     "state": {
      "_dom_classes": [],
      "_model_module": "@jupyter-widgets/controls",
      "_model_module_version": "1.5.0",
      "_model_name": "HTMLModel",
      "_view_count": null,
      "_view_module": "@jupyter-widgets/controls",
      "_view_module_version": "1.5.0",
      "_view_name": "HTMLView",
      "description": "",
      "description_tooltip": null,
      "layout": "IPY_MODEL_a3a0b3b1f59742ddacb45c41495ef646",
      "placeholder": "​",
      "style": "IPY_MODEL_c8b6cd01fd0e4d54b06d30c13b7ab1c3",
      "value": " 83.3M/83.3M [00:00&lt;00:00, 155MB/s]"
     }
    }
   }
  }
 },
 "nbformat": 4,
 "nbformat_minor": 1
}
